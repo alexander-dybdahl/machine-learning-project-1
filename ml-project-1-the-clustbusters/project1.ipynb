{
 "cells": [
  {
   "cell_type": "markdown",
   "metadata": {},
   "source": [
    "# Project 1\n",
    "**Alexander Laloi Dybdahl, Viktor Ellevseth**"
   ]
  },
  {
   "cell_type": "code",
   "execution_count": 53,
   "metadata": {},
   "outputs": [],
   "source": [
    "# %load_ext autoreload\n",
    "%autoreload 2\n",
    "import numpy as np\n",
    "\n",
    "from helpers import *\n",
    "from plots import *\n",
    "from cross_validation import *\n",
    "from build_polynomial import *\n",
    "from validation import *\n",
    "from preproccessing import *\n",
    "from implementations import *\n",
    "\n",
    "from gradient_descent import *\n",
    "from stochastic_gradient_descent import *\n",
    "from least_squares import *\n",
    "from ridge_regression import *\n",
    "from logistic_regression import *"
   ]
  },
  {
   "cell_type": "markdown",
   "metadata": {},
   "source": [
    "#### Load data"
   ]
  },
  {
   "cell_type": "code",
   "execution_count": 9,
   "metadata": {},
   "outputs": [],
   "source": [
    "x_train, x_test, y_train, train_ids, test_ids = load_csv_data(\"data/\", sub_sample=False)"
   ]
  },
  {
   "cell_type": "code",
   "execution_count": 10,
   "metadata": {},
   "outputs": [
    {
     "name": "stdout",
     "output_type": "stream",
     "text": [
      "(328135, 321)\n",
      "(328135,)\n",
      "(109379, 321)\n"
     ]
    }
   ],
   "source": [
    "print(x_train.shape)\n",
    "print(y_train.shape)\n",
    "print(x_test.shape)"
   ]
  },
  {
   "cell_type": "markdown",
   "metadata": {},
   "source": [
    "## Run"
   ]
  },
  {
   "cell_type": "code",
   "execution_count": 126,
   "metadata": {},
   "outputs": [
    {
     "name": "stdout",
     "output_type": "stream",
     "text": [
      "encoding (328135, 930) (109379, 930)\n",
      "imputing (328135, 930) (109379, 930)\n",
      "removing low var (328135, 756) (109379, 756)\n",
      "removing high corr (328135, 673) (109379, 673)\n",
      "standardize (328135, 673) (109379, 673)\n",
      "splitting (295322, 673) (109379, 673) (32813, 673)\n",
      "balancing (469656, 673) (109379, 673) (32813, 673)\n",
      "(469656, 673) (109379, 673) (32813, 673)\n"
     ]
    }
   ],
   "source": [
    "# Define constants\n",
    "names = [\"Least Squares\", \"Gradient Descent\", \"Stochastic Gradient Descent\", \"Ridge Regression\", \"Logistic Regression\", \"Regularized Logistic Regression\"]\n",
    "max_iters = 1000\n",
    "seed = 123\n",
    "\n",
    "# Define hyperparameters\n",
    "gamma = 0.1\n",
    "lambda_ridge = 0.01\n",
    "lambda_logistic = 0.001\n",
    "\n",
    "# Preprocess data\n",
    "tx_train, tx_validate, tx_test, y, y_validate = preprocess_data(\n",
    "                                       x_train[:, 9:],\n",
    "                                       x_test[:, 9:],\n",
    "                                       y_train,\n",
    "                                       min_unique = 7,\n",
    "                                       var_tol = 0.0001,\n",
    "                                       corr_tol = 0.999,\n",
    "                                       empty_tol = 0.90,\n",
    "                                       num_components = 300,\n",
    "                                       validation_size = 0.10,\n",
    "                                       ratio = 0.10,\n",
    "                                       seed = 1,\n",
    "                                       pca = False,\n",
    "                                       hon = True\n",
    ")\n",
    "\n",
    "# Define initial w\n",
    "np.random.seed(seed)\n",
    "initial_w = np.random.random(tx_train.shape[1])\n",
    "\n",
    "print(tx_train.shape, tx_test.shape, tx_validate.shape)"
   ]
  },
  {
   "cell_type": "code",
   "execution_count": 127,
   "metadata": {},
   "outputs": [
    {
     "name": "stdout",
     "output_type": "stream",
     "text": [
      "0.5\n"
     ]
    }
   ],
   "source": [
    "print(len(y[y == 1])/len(y))"
   ]
  },
  {
   "cell_type": "markdown",
   "metadata": {},
   "source": [
    "## Train "
   ]
  },
  {
   "cell_type": "code",
   "execution_count": 128,
   "metadata": {},
   "outputs": [],
   "source": [
    "mses = []\n",
    "ws = []"
   ]
  },
  {
   "cell_type": "code",
   "execution_count": 129,
   "metadata": {},
   "outputs": [
    {
     "name": "stdout",
     "output_type": "stream",
     "text": [
      "0.07527283834546933\n"
     ]
    }
   ],
   "source": [
    "w_ls, mse_ls = least_squares(y, tx_train)\n",
    "print(mse_ls)\n",
    "mses.append(mse_ls)\n",
    "ws.append(w_ls)"
   ]
  },
  {
   "cell_type": "code",
   "execution_count": 130,
   "metadata": {},
   "outputs": [
    {
     "name": "stdout",
     "output_type": "stream",
     "text": [
      "Current iteration=0, loss=0.07527283834540165\n",
      "Gradient close to zero\n",
      "0.07527283834540165\n"
     ]
    }
   ],
   "source": [
    "w_gd, mse_gd = mean_squared_error_gd(y, tx_train, w_ls, max_iters=max_iters, gamma=gamma)\n",
    "print(mse_gd)\n",
    "mses.append(mse_gd)\n",
    "ws.append(w_gd)"
   ]
  },
  {
   "cell_type": "code",
   "execution_count": 131,
   "metadata": {},
   "outputs": [
    {
     "name": "stdout",
     "output_type": "stream",
     "text": [
      "Current iteration=0, loss=0.07527283834540165\n",
      "Gradient close to zero\n",
      "0.07527283834540165\n"
     ]
    }
   ],
   "source": [
    "w_sgd, mse_sgd = mean_squared_error_sgd(y, tx_train, w_ls, max_iters=max_iters, gamma=gamma, batch_size=y.shape[0])\n",
    "print(mse_sgd)\n",
    "mses.append(mse_sgd)\n",
    "ws.append(w_sgd)"
   ]
  },
  {
   "cell_type": "code",
   "execution_count": 132,
   "metadata": {},
   "outputs": [
    {
     "name": "stdout",
     "output_type": "stream",
     "text": [
      "0.12011036419319258\n"
     ]
    }
   ],
   "source": [
    "w_rr, mse_rr = ridge_regression(y, tx_train, lambda_ridge)\n",
    "print(mse_rr)\n",
    "mses.append(mse_rr)\n",
    "ws.append(w_rr)"
   ]
  },
  {
   "cell_type": "code",
   "execution_count": 133,
   "metadata": {},
   "outputs": [
    {
     "name": "stdout",
     "output_type": "stream",
     "text": [
      "Current iteration=0, loss=0.5696675173014216\n",
      "Current iteration=100, loss=0.5105792074730767\n",
      "Current iteration=200, loss=0.5089309845437658\n",
      "Current iteration=300, loss=0.5080425889588881\n",
      "Current iteration=400, loss=0.5074158513955448\n",
      "Current iteration=500, loss=0.5069105353633221\n"
     ]
    }
   ],
   "source": [
    "np.random.seed(seed)\n",
    "initial_w = np.zeros(tx_train.shape[1])\n",
    "\n",
    "w_lr, mse_lr = logistic_regression(y, tx_train, initial_w, max_iters=1000, gamma=0.1, seed=seed)\n",
    "print(mse_lr)\n",
    "mses.append(mse_lr)\n",
    "ws.append(w_lr)"
   ]
  },
  {
   "cell_type": "code",
   "execution_count": null,
   "metadata": {},
   "outputs": [
    {
     "name": "stdout",
     "output_type": "stream",
     "text": [
      "Current iteration=0, loss=0.4506835199210324\n",
      "Current iteration=100, loss=0.45065142773159556\n",
      "Current iteration=200, loss=0.4506221913442393\n",
      "Current iteration=300, loss=0.4505958913592333\n",
      "Current iteration=400, loss=0.45057242519447066\n",
      "Current iteration=500, loss=0.45055150246995274\n",
      "Current iteration=600, loss=0.450532815680633\n",
      "Current iteration=700, loss=0.4505160829629993\n",
      "Current iteration=800, loss=0.4505010566063722\n",
      "Current iteration=900, loss=0.45048752211120885\n",
      "Reached max iterations\n",
      "0.07301487144373624\n"
     ]
    }
   ],
   "source": [
    "w_rlr, mse_rlr = reg_logistic_regression(y, tx_train, lambda_logistic, w_lr, max_iters=1000, gamma=0.1, seed=seed)\n",
    "print(mse_rlr)\n",
    "mses.append(mse_rlr)\n",
    "ws.append(w_rlr)"
   ]
  },
  {
   "cell_type": "code",
   "execution_count": null,
   "metadata": {},
   "outputs": [
    {
     "name": "stdout",
     "output_type": "stream",
     "text": [
      "Method                                    MSE Value      \n",
      "---------------------------------------------------------\n",
      "Least Squares                            0.2003294443\n",
      "Gradient Descent                         0.2003294443\n",
      "Stochastic Gradient Descent              0.2003294443\n",
      "Ridge Regression                         0.2005085527\n",
      "Logistic Regression                      0.0730458721\n",
      "Regularized Logistic Regression          0.0730148714\n"
     ]
    }
   ],
   "source": [
    "print_mse(names, mses)"
   ]
  },
  {
   "cell_type": "markdown",
   "metadata": {},
   "source": [
    "## Test methods"
   ]
  },
  {
   "cell_type": "markdown",
   "metadata": {},
   "source": [
    "### Testing on validation set"
   ]
  },
  {
   "cell_type": "code",
   "execution_count": null,
   "metadata": {},
   "outputs": [],
   "source": [
    "# Cutoff values for regression and classification methods\n",
    "cutoffs = np.linspace(0.10, 0.99, 51)\n",
    "cutoff_ls, f1_scores_ls = cross_validation_cutoffs(y_validate, tx_validate, w_ls, predict_class, cutoffs, plot=False) # 0.66\n",
    "cutoff_rr, f1_scores_rr = cross_validation_cutoffs(y_validate, tx_validate, w_rr, predict_class, cutoffs, plot=False) # 0.62\n",
    "cutoff_lr, f1_scores_lr = cross_validation_cutoffs(y_validate, tx_validate, w_lr, predict_class, cutoffs, plot=False) # 0.81\n",
    "cutoff_rlr, f1_scores_rlr = cross_validation_cutoffs(y_validate, tx_validate, w_rlr, predict_class, cutoffs, plot=False) # 0.69"
   ]
  },
  {
   "cell_type": "code",
   "execution_count": null,
   "metadata": {},
   "outputs": [
    {
     "name": "stdout",
     "output_type": "stream",
     "text": [
      "cutoffs 0.723 0.5806 0.8832 0.8832\n",
      "Method                                                     Accuracy   F1 Score   Type II Error  \n",
      "------------------------------------------------------------------------------------------------\n",
      "Least Squares                                                0.596      0.190      0.462\n",
      "Gradient Descent                                             0.596      0.190      0.462\n",
      "Stochastic Gradient Descent                                  0.596      0.190      0.462\n",
      "Ridge Regression                                             0.915      0.315      0.777\n",
      "Logistic Regression                                          0.870      0.428      0.446\n",
      "Regularized Logistic Regression                              0.871      0.428      0.448\n"
     ]
    }
   ],
   "source": [
    "print(\"cutoffs\", cutoff_ls, cutoff_rr, cutoff_lr, cutoff_rlr)\n",
    "\n",
    "# Predict for regression methods\n",
    "pred_ls = predict_reg(tx_validate, w_ls, cutoff_ls)\n",
    "pred_gd = predict_reg(tx_validate, w_gd, cutoff_ls)\n",
    "pred_sgd = predict_reg(tx_validate, w_sgd, cutoff_ls)\n",
    "pred_rr = predict_reg(tx_validate, w_rr, cutoff_rr)\n",
    "\n",
    "# Predict for classification methods\n",
    "pred_lr = predict_class(tx_validate, w_lr, cutoff_lr)\n",
    "pred_rlr = predict_class(tx_validate, w_rlr, cutoff_rlr)\n",
    "\n",
    "predictions = [pred_ls, pred_gd, pred_sgd, pred_rr, pred_lr, pred_rlr]\n",
    "\n",
    "plot_results(y_validate, predictions, names)"
   ]
  },
  {
   "cell_type": "code",
   "execution_count": null,
   "metadata": {},
   "outputs": [
    {
     "name": "stdout",
     "output_type": "stream",
     "text": [
      "Least Squares\n",
      "[[ 1538 11726]\n",
      " [ 1345 18204]]\n",
      "\n",
      "Gradient Descent\n",
      "[[ 1538 11726]\n",
      " [ 1345 18204]]\n",
      "\n",
      "Stochastic Gradient Descent\n",
      "[[ 1538 11726]\n",
      " [ 1345 18204]]\n",
      "\n",
      "Ridge Regression\n",
      "[[  642   547]\n",
      " [ 2241 29383]]\n",
      "\n",
      "Logistic Regression\n",
      "[[ 1597  2981]\n",
      " [ 1286 26949]]\n",
      "\n",
      "Regularized Logistic Regression\n",
      "[[ 1591  2956]\n",
      " [ 1292 26974]]\n",
      "\n"
     ]
    }
   ],
   "source": [
    "for name, pred in zip(names, predictions):\n",
    "    print(name)\n",
    "    print(confusion_matrix(y_validate, pred))\n",
    "    print()"
   ]
  },
  {
   "cell_type": "code",
   "execution_count": null,
   "metadata": {},
   "outputs": [
    {
     "name": "stdout",
     "output_type": "stream",
     "text": [
      "0.3982300075882939\n",
      "0.03495186461752256\n",
      "0.14012744676766106\n",
      "0.13913091178379763\n"
     ]
    }
   ],
   "source": [
    "# Calculate classification\n",
    "pred = np.where(tx_test @ w_ls > cutoff_ls, 1, -1)\n",
    "print(len(pred[pred == 1])/len(pred))\n",
    "create_csv_submission(test_ids, pred, \"data/sample_submission_ls.csv\")\n",
    "\n",
    "# Calculate classification\n",
    "pred = np.where(tx_test @ w_rr > cutoff_rr, 1, -1)\n",
    "print(len(pred[pred == 1])/len(pred))\n",
    "create_csv_submission(test_ids, pred, \"data/sample_submission_ridge.csv\")\n",
    "\n",
    "# Calculate classification\n",
    "pred = np.where(sigmoid(tx_test @ w_lr) > cutoff_lr, 1, -1)\n",
    "print(len(pred[pred == 1])/len(pred))\n",
    "create_csv_submission(test_ids, pred, \"data/sample_submission_lr.csv\")\n",
    "\n",
    "# Calculate classification\n",
    "pred = np.where(sigmoid(tx_test @ w_rlr) > cutoff_rlr, 1, -1)\n",
    "print(len(pred[pred == 1])/len(pred))\n",
    "create_csv_submission(test_ids, pred, \"data/sample_submission_rlr.csv\")"
   ]
  },
  {
   "cell_type": "markdown",
   "metadata": {},
   "source": [
    "## Cross Validation on lambda and cutoffs on Ridge Regression"
   ]
  },
  {
   "cell_type": "code",
   "execution_count": null,
   "metadata": {},
   "outputs": [
    {
     "name": "stdout",
     "output_type": "stream",
     "text": [
      "lambda 0.0001\n",
      "lambda 0.00013738237958832623\n",
      "lambda 0.00018873918221350977\n",
      "lambda 0.0002592943797404667\n",
      "lambda 0.0003562247890262444\n"
     ]
    },
    {
     "ename": "KeyboardInterrupt",
     "evalue": "",
     "output_type": "error",
     "traceback": [
      "\u001b[1;31m---------------------------------------------------------------------------\u001b[0m",
      "\u001b[1;31mKeyboardInterrupt\u001b[0m                         Traceback (most recent call last)",
      "\u001b[1;32m~\\AppData\\Local\\Temp\\ipykernel_39132\\2669165970.py\u001b[0m in \u001b[0;36m<module>\u001b[1;34m\u001b[0m\n\u001b[0;32m      2\u001b[0m \u001b[0mk_fold\u001b[0m \u001b[1;33m=\u001b[0m \u001b[1;36m7\u001b[0m\u001b[1;33m\u001b[0m\u001b[1;33m\u001b[0m\u001b[0m\n\u001b[0;32m      3\u001b[0m \u001b[1;33m\u001b[0m\u001b[0m\n\u001b[1;32m----> 4\u001b[1;33m \u001b[0mbest_lambda_ridge\u001b[0m\u001b[1;33m,\u001b[0m \u001b[0mbest_rmse\u001b[0m \u001b[1;33m=\u001b[0m \u001b[0mcross_validation_lambda\u001b[0m\u001b[1;33m(\u001b[0m\u001b[0my\u001b[0m\u001b[1;33m,\u001b[0m \u001b[0mtx_train\u001b[0m\u001b[1;33m,\u001b[0m \u001b[0mridge_regression\u001b[0m\u001b[1;33m,\u001b[0m \u001b[0mk_fold\u001b[0m\u001b[1;33m,\u001b[0m \u001b[0mlambdas\u001b[0m\u001b[1;33m,\u001b[0m \u001b[0mseed\u001b[0m\u001b[1;33m=\u001b[0m\u001b[0mseed\u001b[0m\u001b[1;33m,\u001b[0m \u001b[0margs\u001b[0m\u001b[1;33m=\u001b[0m\u001b[1;33m(\u001b[0m\u001b[1;33m)\u001b[0m\u001b[1;33m)\u001b[0m\u001b[1;33m\u001b[0m\u001b[1;33m\u001b[0m\u001b[0m\n\u001b[0m\u001b[0;32m      5\u001b[0m \u001b[0mprint\u001b[0m\u001b[1;33m(\u001b[0m\u001b[1;34m\"Best lambda:\"\u001b[0m\u001b[1;33m,\u001b[0m \u001b[0mbest_lambda_ridge\u001b[0m\u001b[1;33m)\u001b[0m\u001b[1;33m\u001b[0m\u001b[1;33m\u001b[0m\u001b[0m\n\u001b[0;32m      6\u001b[0m \u001b[0mprint\u001b[0m\u001b[1;33m(\u001b[0m\u001b[1;34m\"Best rmse:\"\u001b[0m\u001b[1;33m,\u001b[0m \u001b[0mbest_rmse\u001b[0m\u001b[1;33m)\u001b[0m\u001b[1;33m\u001b[0m\u001b[1;33m\u001b[0m\u001b[0m\n",
      "\u001b[1;32mc:\\Users\\Alexander\\OneDrive - NTNU\\NTNU\\7. Semester\\CS-433 Machine Learning\\ml-project-1-the-clustbusters\\cross_validation.py\u001b[0m in \u001b[0;36mcross_validation_lambda\u001b[1;34m(y, tx, method, k_fold, lambdas, seed, loss_type, args)\u001b[0m\n\u001b[0;32m     52\u001b[0m     \u001b[1;32mfor\u001b[0m \u001b[0mlambda_\u001b[0m \u001b[1;32min\u001b[0m \u001b[0mlambdas\u001b[0m\u001b[1;33m:\u001b[0m\u001b[1;33m\u001b[0m\u001b[1;33m\u001b[0m\u001b[0m\n\u001b[0;32m     53\u001b[0m         \u001b[0mprint\u001b[0m\u001b[1;33m(\u001b[0m\u001b[1;34m\"lambda\"\u001b[0m\u001b[1;33m,\u001b[0m \u001b[0mlambda_\u001b[0m\u001b[1;33m)\u001b[0m\u001b[1;33m\u001b[0m\u001b[1;33m\u001b[0m\u001b[0m\n\u001b[1;32m---> 54\u001b[1;33m         \u001b[0mloss_tr\u001b[0m\u001b[1;33m,\u001b[0m \u001b[0mloss_te\u001b[0m \u001b[1;33m=\u001b[0m \u001b[0mzip\u001b[0m\u001b[1;33m(\u001b[0m\u001b[1;33m*\u001b[0m\u001b[1;33m(\u001b[0m\u001b[0mcross_validation_loss\u001b[0m\u001b[1;33m(\u001b[0m\u001b[0my\u001b[0m\u001b[1;33m,\u001b[0m \u001b[0mtx\u001b[0m\u001b[1;33m,\u001b[0m \u001b[0mmethod\u001b[0m\u001b[1;33m,\u001b[0m \u001b[0mk_indices\u001b[0m\u001b[1;33m,\u001b[0m \u001b[0mk\u001b[0m\u001b[1;33m,\u001b[0m \u001b[0mlambda_\u001b[0m\u001b[1;33m,\u001b[0m \u001b[0mloss_type\u001b[0m\u001b[1;33m,\u001b[0m \u001b[0margs\u001b[0m\u001b[1;33m=\u001b[0m\u001b[0margs\u001b[0m\u001b[1;33m)\u001b[0m \u001b[1;32mfor\u001b[0m \u001b[0mk\u001b[0m \u001b[1;32min\u001b[0m \u001b[0mrange\u001b[0m\u001b[1;33m(\u001b[0m\u001b[0mk_fold\u001b[0m\u001b[1;33m)\u001b[0m\u001b[1;33m)\u001b[0m\u001b[1;33m)\u001b[0m\u001b[1;33m\u001b[0m\u001b[1;33m\u001b[0m\u001b[0m\n\u001b[0m\u001b[0;32m     55\u001b[0m         \u001b[0mrmse_tr\u001b[0m\u001b[1;33m.\u001b[0m\u001b[0mappend\u001b[0m\u001b[1;33m(\u001b[0m\u001b[0mnp\u001b[0m\u001b[1;33m.\u001b[0m\u001b[0mmean\u001b[0m\u001b[1;33m(\u001b[0m\u001b[0mloss_tr\u001b[0m\u001b[1;33m)\u001b[0m\u001b[1;33m)\u001b[0m\u001b[1;33m\u001b[0m\u001b[1;33m\u001b[0m\u001b[0m\n\u001b[0;32m     56\u001b[0m         \u001b[0mrmse_te\u001b[0m\u001b[1;33m.\u001b[0m\u001b[0mappend\u001b[0m\u001b[1;33m(\u001b[0m\u001b[0mnp\u001b[0m\u001b[1;33m.\u001b[0m\u001b[0mmean\u001b[0m\u001b[1;33m(\u001b[0m\u001b[0mloss_te\u001b[0m\u001b[1;33m)\u001b[0m\u001b[1;33m)\u001b[0m\u001b[1;33m\u001b[0m\u001b[1;33m\u001b[0m\u001b[0m\n",
      "\u001b[1;32mc:\\Users\\Alexander\\OneDrive - NTNU\\NTNU\\7. Semester\\CS-433 Machine Learning\\ml-project-1-the-clustbusters\\cross_validation.py\u001b[0m in \u001b[0;36m<genexpr>\u001b[1;34m(.0)\u001b[0m\n\u001b[0;32m     52\u001b[0m     \u001b[1;32mfor\u001b[0m \u001b[0mlambda_\u001b[0m \u001b[1;32min\u001b[0m \u001b[0mlambdas\u001b[0m\u001b[1;33m:\u001b[0m\u001b[1;33m\u001b[0m\u001b[1;33m\u001b[0m\u001b[0m\n\u001b[0;32m     53\u001b[0m         \u001b[0mprint\u001b[0m\u001b[1;33m(\u001b[0m\u001b[1;34m\"lambda\"\u001b[0m\u001b[1;33m,\u001b[0m \u001b[0mlambda_\u001b[0m\u001b[1;33m)\u001b[0m\u001b[1;33m\u001b[0m\u001b[1;33m\u001b[0m\u001b[0m\n\u001b[1;32m---> 54\u001b[1;33m         \u001b[0mloss_tr\u001b[0m\u001b[1;33m,\u001b[0m \u001b[0mloss_te\u001b[0m \u001b[1;33m=\u001b[0m \u001b[0mzip\u001b[0m\u001b[1;33m(\u001b[0m\u001b[1;33m*\u001b[0m\u001b[1;33m(\u001b[0m\u001b[0mcross_validation_loss\u001b[0m\u001b[1;33m(\u001b[0m\u001b[0my\u001b[0m\u001b[1;33m,\u001b[0m \u001b[0mtx\u001b[0m\u001b[1;33m,\u001b[0m \u001b[0mmethod\u001b[0m\u001b[1;33m,\u001b[0m \u001b[0mk_indices\u001b[0m\u001b[1;33m,\u001b[0m \u001b[0mk\u001b[0m\u001b[1;33m,\u001b[0m \u001b[0mlambda_\u001b[0m\u001b[1;33m,\u001b[0m \u001b[0mloss_type\u001b[0m\u001b[1;33m,\u001b[0m \u001b[0margs\u001b[0m\u001b[1;33m=\u001b[0m\u001b[0margs\u001b[0m\u001b[1;33m)\u001b[0m \u001b[1;32mfor\u001b[0m \u001b[0mk\u001b[0m \u001b[1;32min\u001b[0m \u001b[0mrange\u001b[0m\u001b[1;33m(\u001b[0m\u001b[0mk_fold\u001b[0m\u001b[1;33m)\u001b[0m\u001b[1;33m)\u001b[0m\u001b[1;33m)\u001b[0m\u001b[1;33m\u001b[0m\u001b[1;33m\u001b[0m\u001b[0m\n\u001b[0m\u001b[0;32m     55\u001b[0m         \u001b[0mrmse_tr\u001b[0m\u001b[1;33m.\u001b[0m\u001b[0mappend\u001b[0m\u001b[1;33m(\u001b[0m\u001b[0mnp\u001b[0m\u001b[1;33m.\u001b[0m\u001b[0mmean\u001b[0m\u001b[1;33m(\u001b[0m\u001b[0mloss_tr\u001b[0m\u001b[1;33m)\u001b[0m\u001b[1;33m)\u001b[0m\u001b[1;33m\u001b[0m\u001b[1;33m\u001b[0m\u001b[0m\n\u001b[0;32m     56\u001b[0m         \u001b[0mrmse_te\u001b[0m\u001b[1;33m.\u001b[0m\u001b[0mappend\u001b[0m\u001b[1;33m(\u001b[0m\u001b[0mnp\u001b[0m\u001b[1;33m.\u001b[0m\u001b[0mmean\u001b[0m\u001b[1;33m(\u001b[0m\u001b[0mloss_te\u001b[0m\u001b[1;33m)\u001b[0m\u001b[1;33m)\u001b[0m\u001b[1;33m\u001b[0m\u001b[1;33m\u001b[0m\u001b[0m\n",
      "\u001b[1;32mc:\\Users\\Alexander\\OneDrive - NTNU\\NTNU\\7. Semester\\CS-433 Machine Learning\\ml-project-1-the-clustbusters\\cross_validation.py\u001b[0m in \u001b[0;36mcross_validation_loss\u001b[1;34m(y, tx, method, k_indices, k, lambda_, loss_type, args)\u001b[0m\n\u001b[0;32m     25\u001b[0m     \u001b[0mtx_tr\u001b[0m\u001b[1;33m,\u001b[0m \u001b[0my_tr\u001b[0m \u001b[1;33m=\u001b[0m \u001b[0mtx\u001b[0m\u001b[1;33m[\u001b[0m\u001b[0mtrain_indices\u001b[0m\u001b[1;33m]\u001b[0m\u001b[1;33m,\u001b[0m \u001b[0my\u001b[0m\u001b[1;33m[\u001b[0m\u001b[0mtrain_indices\u001b[0m\u001b[1;33m]\u001b[0m\u001b[1;33m\u001b[0m\u001b[1;33m\u001b[0m\u001b[0m\n\u001b[0;32m     26\u001b[0m \u001b[1;33m\u001b[0m\u001b[0m\n\u001b[1;32m---> 27\u001b[1;33m     \u001b[0mw\u001b[0m\u001b[1;33m,\u001b[0m \u001b[0mmse\u001b[0m \u001b[1;33m=\u001b[0m \u001b[0mmethod\u001b[0m\u001b[1;33m(\u001b[0m\u001b[0my_tr\u001b[0m\u001b[1;33m,\u001b[0m \u001b[0mtx_tr\u001b[0m\u001b[1;33m,\u001b[0m \u001b[0mlambda_\u001b[0m\u001b[1;33m,\u001b[0m \u001b[1;33m*\u001b[0m\u001b[0margs\u001b[0m\u001b[1;33m)\u001b[0m\u001b[1;33m\u001b[0m\u001b[1;33m\u001b[0m\u001b[0m\n\u001b[0m\u001b[0;32m     28\u001b[0m \u001b[1;33m\u001b[0m\u001b[0m\n\u001b[0;32m     29\u001b[0m     \u001b[1;32mif\u001b[0m \u001b[0mloss_type\u001b[0m\u001b[1;33m.\u001b[0m\u001b[0mlower\u001b[0m\u001b[1;33m(\u001b[0m\u001b[1;33m)\u001b[0m\u001b[1;33m==\u001b[0m\u001b[1;34m\"reg\"\u001b[0m\u001b[1;33m:\u001b[0m\u001b[1;33m\u001b[0m\u001b[1;33m\u001b[0m\u001b[0m\n",
      "\u001b[1;32mc:\\Users\\Alexander\\OneDrive - NTNU\\NTNU\\7. Semester\\CS-433 Machine Learning\\ml-project-1-the-clustbusters\\ridge_regression.py\u001b[0m in \u001b[0;36mridge_regression\u001b[1;34m(y, tx, lambda_)\u001b[0m\n\u001b[0;32m      6\u001b[0m     \u001b[0mN\u001b[0m \u001b[1;33m=\u001b[0m \u001b[0my\u001b[0m\u001b[1;33m.\u001b[0m\u001b[0mshape\u001b[0m\u001b[1;33m[\u001b[0m\u001b[1;36m0\u001b[0m\u001b[1;33m]\u001b[0m\u001b[1;33m\u001b[0m\u001b[1;33m\u001b[0m\u001b[0m\n\u001b[0;32m      7\u001b[0m     \u001b[0mD\u001b[0m \u001b[1;33m=\u001b[0m \u001b[0mtx\u001b[0m\u001b[1;33m.\u001b[0m\u001b[0mshape\u001b[0m\u001b[1;33m[\u001b[0m\u001b[1;36m1\u001b[0m\u001b[1;33m]\u001b[0m\u001b[1;33m\u001b[0m\u001b[1;33m\u001b[0m\u001b[0m\n\u001b[1;32m----> 8\u001b[1;33m     \u001b[0mw\u001b[0m \u001b[1;33m=\u001b[0m \u001b[0mnp\u001b[0m\u001b[1;33m.\u001b[0m\u001b[0mlinalg\u001b[0m\u001b[1;33m.\u001b[0m\u001b[0msolve\u001b[0m\u001b[1;33m(\u001b[0m\u001b[0mtx\u001b[0m\u001b[1;33m.\u001b[0m\u001b[0mT\u001b[0m \u001b[1;33m@\u001b[0m \u001b[0mtx\u001b[0m \u001b[1;33m+\u001b[0m \u001b[1;36m2\u001b[0m \u001b[1;33m*\u001b[0m \u001b[0mN\u001b[0m \u001b[1;33m*\u001b[0m \u001b[0mlambda_\u001b[0m \u001b[1;33m*\u001b[0m \u001b[0mnp\u001b[0m\u001b[1;33m.\u001b[0m\u001b[0meye\u001b[0m\u001b[1;33m(\u001b[0m\u001b[0mD\u001b[0m\u001b[1;33m)\u001b[0m\u001b[1;33m,\u001b[0m \u001b[0mtx\u001b[0m\u001b[1;33m.\u001b[0m\u001b[0mT\u001b[0m \u001b[1;33m@\u001b[0m \u001b[0my\u001b[0m\u001b[1;33m)\u001b[0m\u001b[1;33m\u001b[0m\u001b[1;33m\u001b[0m\u001b[0m\n\u001b[0m\u001b[0;32m      9\u001b[0m     \u001b[0mmse\u001b[0m \u001b[1;33m=\u001b[0m \u001b[1;36m1\u001b[0m\u001b[1;33m/\u001b[0m\u001b[1;33m(\u001b[0m\u001b[1;36m2\u001b[0m\u001b[1;33m*\u001b[0m\u001b[0mN\u001b[0m\u001b[1;33m)\u001b[0m \u001b[1;33m*\u001b[0m \u001b[0mnp\u001b[0m\u001b[1;33m.\u001b[0m\u001b[0mlinalg\u001b[0m\u001b[1;33m.\u001b[0m\u001b[0mnorm\u001b[0m\u001b[1;33m(\u001b[0m\u001b[0my\u001b[0m \u001b[1;33m-\u001b[0m \u001b[0mtx\u001b[0m \u001b[1;33m@\u001b[0m \u001b[0mw\u001b[0m\u001b[1;33m)\u001b[0m\u001b[1;33m**\u001b[0m\u001b[1;36m2\u001b[0m\u001b[1;33m\u001b[0m\u001b[1;33m\u001b[0m\u001b[0m\n\u001b[0;32m     10\u001b[0m \u001b[1;33m\u001b[0m\u001b[0m\n",
      "\u001b[1;31mKeyboardInterrupt\u001b[0m: "
     ]
    }
   ],
   "source": [
    "lambdas = np.logspace(-4, 0, 30)\n",
    "k_fold = 7\n",
    "\n",
    "best_lambda_ridge, best_rmse = cross_validation_lambda(y, tx_train, ridge_regression, k_fold, lambdas, seed=seed, args=())\n",
    "print(\"Best lambda:\", best_lambda_ridge)\n",
    "print(\"Best rmse:\", best_rmse)"
   ]
  },
  {
   "cell_type": "code",
   "execution_count": null,
   "metadata": {},
   "outputs": [
    {
     "name": "stdout",
     "output_type": "stream",
     "text": [
      "0.6224489795918368\n"
     ]
    }
   ],
   "source": [
    "cutoffs_rr_CV = np.linspace(0.1, 0.9, 50)\n",
    "best_cutoff_rr, f1_scores_rr_CV = cross_validation_cutoffs(y_validate, tx_validate, w_rr, predict_class, cutoffs_rr_CV, plot=False)\n",
    "print(best_cutoff_rr)"
   ]
  },
  {
   "cell_type": "code",
   "execution_count": null,
   "metadata": {},
   "outputs": [
    {
     "name": "stdout",
     "output_type": "stream",
     "text": [
      "0.12344696064996927\n",
      "Method                                                     Accuracy   F1 Score   Type II Error  \n",
      "------------------------------------------------------------------------------------------------\n",
      "Least Squares                                                0.493      0.160      0.451\n",
      "Gradient Descent                                             0.493      0.160      0.451\n",
      "Stochastic Gradient Descent                                  0.493      0.160      0.451\n",
      "Ridge Regression                                             0.902      0.393      0.637\n",
      "Logistic Regression                                          0.862      0.412      0.447\n",
      "Regularized Logistic Regression                              0.832      0.406      0.348\n",
      "Ridge Regression CV                                          0.902      0.392      0.642\n"
     ]
    }
   ],
   "source": [
    "w_rr_CV, mse_rr_CV = ridge_regression(y, tx_train, best_lambda_ridge)\n",
    "print(mse_rr_CV)\n",
    "\n",
    "pred_rr_poly = predict_reg(tx_validate, w_rr_CV, best_cutoff_rr)\n",
    "predictions.append(pred_rr_poly)\n",
    "names.append(\"Ridge Regression CV \")\n",
    "plot_results(y_validate, predictions, names)"
   ]
  },
  {
   "cell_type": "code",
   "execution_count": null,
   "metadata": {},
   "outputs": [
    {
     "name": "stdout",
     "output_type": "stream",
     "text": [
      "0.07498697190502747\n"
     ]
    }
   ],
   "source": [
    "# Calculate classification\n",
    "pred = np.where(tx_test @ w_rr_CV > cutoff_rr, 1, -1)\n",
    "print(len(pred[pred == 1])/len(pred))\n",
    "\n",
    "# Write classifications to file\n",
    "create_csv_submission(test_ids, pred, \"data/sample_submission_ridge_CV.csv\")"
   ]
  },
  {
   "cell_type": "markdown",
   "metadata": {},
   "source": [
    "## Cross Validation on lambda and cutoffs on RLR"
   ]
  },
  {
   "cell_type": "code",
   "execution_count": null,
   "metadata": {},
   "outputs": [
    {
     "name": "stdout",
     "output_type": "stream",
     "text": [
      "lambda 1e-05\n",
      "Current iteration=0, loss=0.5104649078243285\n",
      "Current iteration=100, loss=0.5037828548340212\n",
      "Current iteration=200, loss=0.5014720611472897\n",
      "Current iteration=300, loss=0.5000433319870683\n",
      "Current iteration=400, loss=0.499965645847967\n",
      "Current iteration=500, loss=0.5009719957422993\n",
      "Current iteration=600, loss=0.5030207019889337\n",
      "Current iteration=700, loss=0.5059822556810365\n",
      "Current iteration=800, loss=0.5097017440818468\n",
      "Current iteration=900, loss=0.5140282182069179\n",
      "Reached max iterations\n",
      "Current iteration=0, loss=0.506620963472934\n",
      "Current iteration=100, loss=0.5015808806030008\n",
      "Current iteration=200, loss=0.500324614369765\n",
      "Current iteration=300, loss=0.49910628681391744\n",
      "Current iteration=400, loss=0.4992299862805157\n",
      "Current iteration=500, loss=0.5004582412889805\n",
      "Current iteration=600, loss=0.5027521358092272\n",
      "Current iteration=700, loss=0.5059786220658443\n",
      "Current iteration=800, loss=0.5099792627637476\n",
      "Current iteration=900, loss=0.5145999100664063\n",
      "Reached max iterations\n",
      "Current iteration=0, loss=0.506483139918253\n",
      "Current iteration=100, loss=0.5014340375946925\n",
      "Current iteration=200, loss=0.5001068601296879\n",
      "Current iteration=300, loss=0.4990791979116481\n",
      "Current iteration=400, loss=0.4991944185404543\n",
      "Current iteration=500, loss=0.5003774462930276\n",
      "Current iteration=600, loss=0.5025764254268856\n"
     ]
    },
    {
     "ename": "KeyboardInterrupt",
     "evalue": "",
     "output_type": "error",
     "traceback": [
      "\u001b[1;31m---------------------------------------------------------------------------\u001b[0m",
      "\u001b[1;31mKeyboardInterrupt\u001b[0m                         Traceback (most recent call last)",
      "\u001b[1;32m~\\AppData\\Local\\Temp\\ipykernel_39132\\1231054452.py\u001b[0m in \u001b[0;36m<module>\u001b[1;34m\u001b[0m\n\u001b[0;32m      2\u001b[0m \u001b[0mk_fold\u001b[0m \u001b[1;33m=\u001b[0m \u001b[1;36m5\u001b[0m\u001b[1;33m\u001b[0m\u001b[1;33m\u001b[0m\u001b[0m\n\u001b[0;32m      3\u001b[0m \u001b[1;33m\u001b[0m\u001b[0m\n\u001b[1;32m----> 4\u001b[1;33m \u001b[0mbest_lambda_rlr\u001b[0m\u001b[1;33m,\u001b[0m \u001b[0mbest_rmse\u001b[0m \u001b[1;33m=\u001b[0m \u001b[0mcross_validation_lambda\u001b[0m\u001b[1;33m(\u001b[0m\u001b[0my\u001b[0m\u001b[1;33m,\u001b[0m \u001b[0mtx_train\u001b[0m\u001b[1;33m,\u001b[0m \u001b[0mreg_logistic_regression\u001b[0m\u001b[1;33m,\u001b[0m \u001b[0mk_fold\u001b[0m\u001b[1;33m,\u001b[0m \u001b[0mlambdas\u001b[0m\u001b[1;33m,\u001b[0m \u001b[0mseed\u001b[0m\u001b[1;33m=\u001b[0m\u001b[0mseed\u001b[0m\u001b[1;33m,\u001b[0m \u001b[0mloss_type\u001b[0m\u001b[1;33m=\u001b[0m\u001b[1;34m\"class\"\u001b[0m\u001b[1;33m,\u001b[0m \u001b[0margs\u001b[0m\u001b[1;33m=\u001b[0m\u001b[1;33m(\u001b[0m\u001b[0mw_lr\u001b[0m\u001b[1;33m,\u001b[0m \u001b[1;33m)\u001b[0m\u001b[1;33m)\u001b[0m\u001b[1;33m\u001b[0m\u001b[1;33m\u001b[0m\u001b[0m\n\u001b[0m\u001b[0;32m      5\u001b[0m \u001b[0mprint\u001b[0m\u001b[1;33m(\u001b[0m\u001b[1;34m\"Best lambda:\"\u001b[0m\u001b[1;33m,\u001b[0m \u001b[0mbest_lambda_rlr\u001b[0m\u001b[1;33m)\u001b[0m\u001b[1;33m\u001b[0m\u001b[1;33m\u001b[0m\u001b[0m\n\u001b[0;32m      6\u001b[0m \u001b[0mprint\u001b[0m\u001b[1;33m(\u001b[0m\u001b[1;34m\"Best rmse:\"\u001b[0m\u001b[1;33m,\u001b[0m \u001b[0mbest_rmse\u001b[0m\u001b[1;33m)\u001b[0m\u001b[1;33m\u001b[0m\u001b[1;33m\u001b[0m\u001b[0m\n",
      "\u001b[1;32mc:\\Users\\Alexander\\OneDrive - NTNU\\NTNU\\7. Semester\\CS-433 Machine Learning\\ml-project-1-the-clustbusters\\cross_validation.py\u001b[0m in \u001b[0;36mcross_validation_lambda\u001b[1;34m(y, tx, method, k_fold, lambdas, seed, loss_type, args)\u001b[0m\n\u001b[0;32m     52\u001b[0m     \u001b[1;32mfor\u001b[0m \u001b[0mlambda_\u001b[0m \u001b[1;32min\u001b[0m \u001b[0mlambdas\u001b[0m\u001b[1;33m:\u001b[0m\u001b[1;33m\u001b[0m\u001b[1;33m\u001b[0m\u001b[0m\n\u001b[0;32m     53\u001b[0m         \u001b[0mprint\u001b[0m\u001b[1;33m(\u001b[0m\u001b[1;34m\"lambda\"\u001b[0m\u001b[1;33m,\u001b[0m \u001b[0mlambda_\u001b[0m\u001b[1;33m)\u001b[0m\u001b[1;33m\u001b[0m\u001b[1;33m\u001b[0m\u001b[0m\n\u001b[1;32m---> 54\u001b[1;33m         \u001b[0mloss_tr\u001b[0m\u001b[1;33m,\u001b[0m \u001b[0mloss_te\u001b[0m \u001b[1;33m=\u001b[0m \u001b[0mzip\u001b[0m\u001b[1;33m(\u001b[0m\u001b[1;33m*\u001b[0m\u001b[1;33m(\u001b[0m\u001b[0mcross_validation_loss\u001b[0m\u001b[1;33m(\u001b[0m\u001b[0my\u001b[0m\u001b[1;33m,\u001b[0m \u001b[0mtx\u001b[0m\u001b[1;33m,\u001b[0m \u001b[0mmethod\u001b[0m\u001b[1;33m,\u001b[0m \u001b[0mk_indices\u001b[0m\u001b[1;33m,\u001b[0m \u001b[0mk\u001b[0m\u001b[1;33m,\u001b[0m \u001b[0mlambda_\u001b[0m\u001b[1;33m,\u001b[0m \u001b[0mloss_type\u001b[0m\u001b[1;33m,\u001b[0m \u001b[0margs\u001b[0m\u001b[1;33m=\u001b[0m\u001b[0margs\u001b[0m\u001b[1;33m)\u001b[0m \u001b[1;32mfor\u001b[0m \u001b[0mk\u001b[0m \u001b[1;32min\u001b[0m \u001b[0mrange\u001b[0m\u001b[1;33m(\u001b[0m\u001b[0mk_fold\u001b[0m\u001b[1;33m)\u001b[0m\u001b[1;33m)\u001b[0m\u001b[1;33m)\u001b[0m\u001b[1;33m\u001b[0m\u001b[1;33m\u001b[0m\u001b[0m\n\u001b[0m\u001b[0;32m     55\u001b[0m         \u001b[0mrmse_tr\u001b[0m\u001b[1;33m.\u001b[0m\u001b[0mappend\u001b[0m\u001b[1;33m(\u001b[0m\u001b[0mnp\u001b[0m\u001b[1;33m.\u001b[0m\u001b[0mmean\u001b[0m\u001b[1;33m(\u001b[0m\u001b[0mloss_tr\u001b[0m\u001b[1;33m)\u001b[0m\u001b[1;33m)\u001b[0m\u001b[1;33m\u001b[0m\u001b[1;33m\u001b[0m\u001b[0m\n\u001b[0;32m     56\u001b[0m         \u001b[0mrmse_te\u001b[0m\u001b[1;33m.\u001b[0m\u001b[0mappend\u001b[0m\u001b[1;33m(\u001b[0m\u001b[0mnp\u001b[0m\u001b[1;33m.\u001b[0m\u001b[0mmean\u001b[0m\u001b[1;33m(\u001b[0m\u001b[0mloss_te\u001b[0m\u001b[1;33m)\u001b[0m\u001b[1;33m)\u001b[0m\u001b[1;33m\u001b[0m\u001b[1;33m\u001b[0m\u001b[0m\n",
      "\u001b[1;32mc:\\Users\\Alexander\\OneDrive - NTNU\\NTNU\\7. Semester\\CS-433 Machine Learning\\ml-project-1-the-clustbusters\\cross_validation.py\u001b[0m in \u001b[0;36m<genexpr>\u001b[1;34m(.0)\u001b[0m\n\u001b[0;32m     52\u001b[0m     \u001b[1;32mfor\u001b[0m \u001b[0mlambda_\u001b[0m \u001b[1;32min\u001b[0m \u001b[0mlambdas\u001b[0m\u001b[1;33m:\u001b[0m\u001b[1;33m\u001b[0m\u001b[1;33m\u001b[0m\u001b[0m\n\u001b[0;32m     53\u001b[0m         \u001b[0mprint\u001b[0m\u001b[1;33m(\u001b[0m\u001b[1;34m\"lambda\"\u001b[0m\u001b[1;33m,\u001b[0m \u001b[0mlambda_\u001b[0m\u001b[1;33m)\u001b[0m\u001b[1;33m\u001b[0m\u001b[1;33m\u001b[0m\u001b[0m\n\u001b[1;32m---> 54\u001b[1;33m         \u001b[0mloss_tr\u001b[0m\u001b[1;33m,\u001b[0m \u001b[0mloss_te\u001b[0m \u001b[1;33m=\u001b[0m \u001b[0mzip\u001b[0m\u001b[1;33m(\u001b[0m\u001b[1;33m*\u001b[0m\u001b[1;33m(\u001b[0m\u001b[0mcross_validation_loss\u001b[0m\u001b[1;33m(\u001b[0m\u001b[0my\u001b[0m\u001b[1;33m,\u001b[0m \u001b[0mtx\u001b[0m\u001b[1;33m,\u001b[0m \u001b[0mmethod\u001b[0m\u001b[1;33m,\u001b[0m \u001b[0mk_indices\u001b[0m\u001b[1;33m,\u001b[0m \u001b[0mk\u001b[0m\u001b[1;33m,\u001b[0m \u001b[0mlambda_\u001b[0m\u001b[1;33m,\u001b[0m \u001b[0mloss_type\u001b[0m\u001b[1;33m,\u001b[0m \u001b[0margs\u001b[0m\u001b[1;33m=\u001b[0m\u001b[0margs\u001b[0m\u001b[1;33m)\u001b[0m \u001b[1;32mfor\u001b[0m \u001b[0mk\u001b[0m \u001b[1;32min\u001b[0m \u001b[0mrange\u001b[0m\u001b[1;33m(\u001b[0m\u001b[0mk_fold\u001b[0m\u001b[1;33m)\u001b[0m\u001b[1;33m)\u001b[0m\u001b[1;33m)\u001b[0m\u001b[1;33m\u001b[0m\u001b[1;33m\u001b[0m\u001b[0m\n\u001b[0m\u001b[0;32m     55\u001b[0m         \u001b[0mrmse_tr\u001b[0m\u001b[1;33m.\u001b[0m\u001b[0mappend\u001b[0m\u001b[1;33m(\u001b[0m\u001b[0mnp\u001b[0m\u001b[1;33m.\u001b[0m\u001b[0mmean\u001b[0m\u001b[1;33m(\u001b[0m\u001b[0mloss_tr\u001b[0m\u001b[1;33m)\u001b[0m\u001b[1;33m)\u001b[0m\u001b[1;33m\u001b[0m\u001b[1;33m\u001b[0m\u001b[0m\n\u001b[0;32m     56\u001b[0m         \u001b[0mrmse_te\u001b[0m\u001b[1;33m.\u001b[0m\u001b[0mappend\u001b[0m\u001b[1;33m(\u001b[0m\u001b[0mnp\u001b[0m\u001b[1;33m.\u001b[0m\u001b[0mmean\u001b[0m\u001b[1;33m(\u001b[0m\u001b[0mloss_te\u001b[0m\u001b[1;33m)\u001b[0m\u001b[1;33m)\u001b[0m\u001b[1;33m\u001b[0m\u001b[1;33m\u001b[0m\u001b[0m\n",
      "\u001b[1;32mc:\\Users\\Alexander\\OneDrive - NTNU\\NTNU\\7. Semester\\CS-433 Machine Learning\\ml-project-1-the-clustbusters\\cross_validation.py\u001b[0m in \u001b[0;36mcross_validation_loss\u001b[1;34m(y, tx, method, k_indices, k, lambda_, loss_type, args)\u001b[0m\n\u001b[0;32m     25\u001b[0m     \u001b[0mtx_tr\u001b[0m\u001b[1;33m,\u001b[0m \u001b[0my_tr\u001b[0m \u001b[1;33m=\u001b[0m \u001b[0mtx\u001b[0m\u001b[1;33m[\u001b[0m\u001b[0mtrain_indices\u001b[0m\u001b[1;33m]\u001b[0m\u001b[1;33m,\u001b[0m \u001b[0my\u001b[0m\u001b[1;33m[\u001b[0m\u001b[0mtrain_indices\u001b[0m\u001b[1;33m]\u001b[0m\u001b[1;33m\u001b[0m\u001b[1;33m\u001b[0m\u001b[0m\n\u001b[0;32m     26\u001b[0m \u001b[1;33m\u001b[0m\u001b[0m\n\u001b[1;32m---> 27\u001b[1;33m     \u001b[0mw\u001b[0m\u001b[1;33m,\u001b[0m \u001b[0mmse\u001b[0m \u001b[1;33m=\u001b[0m \u001b[0mmethod\u001b[0m\u001b[1;33m(\u001b[0m\u001b[0my_tr\u001b[0m\u001b[1;33m,\u001b[0m \u001b[0mtx_tr\u001b[0m\u001b[1;33m,\u001b[0m \u001b[0mlambda_\u001b[0m\u001b[1;33m,\u001b[0m \u001b[1;33m*\u001b[0m\u001b[0margs\u001b[0m\u001b[1;33m)\u001b[0m\u001b[1;33m\u001b[0m\u001b[1;33m\u001b[0m\u001b[0m\n\u001b[0m\u001b[0;32m     28\u001b[0m \u001b[1;33m\u001b[0m\u001b[0m\n\u001b[0;32m     29\u001b[0m     \u001b[1;32mif\u001b[0m \u001b[0mloss_type\u001b[0m\u001b[1;33m.\u001b[0m\u001b[0mlower\u001b[0m\u001b[1;33m(\u001b[0m\u001b[1;33m)\u001b[0m\u001b[1;33m==\u001b[0m\u001b[1;34m\"reg\"\u001b[0m\u001b[1;33m:\u001b[0m\u001b[1;33m\u001b[0m\u001b[1;33m\u001b[0m\u001b[0m\n",
      "\u001b[1;32mc:\\Users\\Alexander\\OneDrive - NTNU\\NTNU\\7. Semester\\CS-433 Machine Learning\\ml-project-1-the-clustbusters\\logistic_regression.py\u001b[0m in \u001b[0;36mreg_logistic_regression\u001b[1;34m(y, tx, lambda_, initial_w, max_iters, gamma, threshold, seed)\u001b[0m\n\u001b[0;32m     64\u001b[0m \u001b[1;33m\u001b[0m\u001b[0m\n\u001b[0;32m     65\u001b[0m     \u001b[1;32mfor\u001b[0m \u001b[0miter\u001b[0m \u001b[1;32min\u001b[0m \u001b[0mrange\u001b[0m\u001b[1;33m(\u001b[0m\u001b[0mmax_iters\u001b[0m\u001b[1;33m)\u001b[0m\u001b[1;33m:\u001b[0m\u001b[1;33m\u001b[0m\u001b[1;33m\u001b[0m\u001b[0m\n\u001b[1;32m---> 66\u001b[1;33m         \u001b[0mgrad\u001b[0m \u001b[1;33m=\u001b[0m \u001b[0mcalculate_gradient\u001b[0m\u001b[1;33m(\u001b[0m\u001b[0my\u001b[0m\u001b[1;33m,\u001b[0m \u001b[0mtx\u001b[0m\u001b[1;33m,\u001b[0m \u001b[0mw\u001b[0m\u001b[1;33m)\u001b[0m \u001b[1;33m+\u001b[0m \u001b[1;36m2\u001b[0m \u001b[1;33m*\u001b[0m \u001b[0mlambda_\u001b[0m \u001b[1;33m*\u001b[0m \u001b[0mw\u001b[0m\u001b[1;33m\u001b[0m\u001b[1;33m\u001b[0m\u001b[0m\n\u001b[0m\u001b[0;32m     67\u001b[0m         \u001b[0mw\u001b[0m \u001b[1;33m=\u001b[0m \u001b[0mw\u001b[0m \u001b[1;33m-\u001b[0m \u001b[0mgamma\u001b[0m \u001b[1;33m*\u001b[0m \u001b[0mgrad\u001b[0m\u001b[1;33m\u001b[0m\u001b[1;33m\u001b[0m\u001b[0m\n\u001b[0;32m     68\u001b[0m \u001b[1;33m\u001b[0m\u001b[0m\n",
      "\u001b[1;32mc:\\Users\\Alexander\\OneDrive - NTNU\\NTNU\\7. Semester\\CS-433 Machine Learning\\ml-project-1-the-clustbusters\\logistic_regression.py\u001b[0m in \u001b[0;36mcalculate_gradient\u001b[1;34m(y, tx, w)\u001b[0m\n\u001b[0;32m     29\u001b[0m \u001b[1;32mdef\u001b[0m \u001b[0mcalculate_gradient\u001b[0m\u001b[1;33m(\u001b[0m\u001b[0my\u001b[0m\u001b[1;33m,\u001b[0m \u001b[0mtx\u001b[0m\u001b[1;33m,\u001b[0m \u001b[0mw\u001b[0m\u001b[1;33m)\u001b[0m\u001b[1;33m:\u001b[0m\u001b[1;33m\u001b[0m\u001b[1;33m\u001b[0m\u001b[0m\n\u001b[0;32m     30\u001b[0m     \u001b[1;34m\"\"\"compute the gradient of loss.\"\"\"\u001b[0m\u001b[1;33m\u001b[0m\u001b[1;33m\u001b[0m\u001b[0m\n\u001b[1;32m---> 31\u001b[1;33m     \u001b[0mgrad\u001b[0m \u001b[1;33m=\u001b[0m \u001b[0mtx\u001b[0m\u001b[1;33m.\u001b[0m\u001b[0mT\u001b[0m \u001b[1;33m@\u001b[0m \u001b[1;33m(\u001b[0m\u001b[0msigmoid\u001b[0m\u001b[1;33m(\u001b[0m\u001b[0mtx\u001b[0m \u001b[1;33m@\u001b[0m \u001b[0mw\u001b[0m\u001b[1;33m)\u001b[0m \u001b[1;33m-\u001b[0m \u001b[0my\u001b[0m\u001b[1;33m)\u001b[0m \u001b[1;33m/\u001b[0m \u001b[0my\u001b[0m\u001b[1;33m.\u001b[0m\u001b[0mshape\u001b[0m\u001b[1;33m[\u001b[0m\u001b[1;36m0\u001b[0m\u001b[1;33m]\u001b[0m\u001b[1;33m\u001b[0m\u001b[1;33m\u001b[0m\u001b[0m\n\u001b[0m\u001b[0;32m     32\u001b[0m     \u001b[1;32mreturn\u001b[0m \u001b[0mgrad\u001b[0m\u001b[1;33m\u001b[0m\u001b[1;33m\u001b[0m\u001b[0m\n\u001b[0;32m     33\u001b[0m \u001b[1;33m\u001b[0m\u001b[0m\n",
      "\u001b[1;31mKeyboardInterrupt\u001b[0m: "
     ]
    }
   ],
   "source": [
    "lambdas = [0.001, 0.005, 0.01, 0.05, 0.1]\n",
    "k_fold = 5\n",
    "\n",
    "best_lambda_rlr, best_rmse = cross_validation_lambda(y, tx_train, reg_logistic_regression, k_fold, lambdas, seed=seed, loss_type=\"class\", args=(w_lr, ))\n",
    "print(\"Best lambda:\", best_lambda_rlr)\n",
    "print(\"Best rmse:\", best_rmse)"
   ]
  },
  {
   "cell_type": "code",
   "execution_count": null,
   "metadata": {},
   "outputs": [
    {
     "name": "stdout",
     "output_type": "stream",
     "text": [
      "0.7262962962962963\n"
     ]
    }
   ],
   "source": [
    "cutoffs_rlr_CV = np.linspace(0.1, 0.99, 55)\n",
    "best_cutoff_rlr, f1_scores_rlr_CV = cross_validation_cutoffs(y_validate, tx_validate, w_rlr, predict_class, cutoffs_rlr_CV, plot=False)\n",
    "print(best_cutoff_rlr)"
   ]
  },
  {
   "cell_type": "code",
   "execution_count": null,
   "metadata": {},
   "outputs": [
    {
     "name": "stdout",
     "output_type": "stream",
     "text": [
      "Current iteration=0, loss=0.5246587466120257\n",
      "Current iteration=100, loss=0.5150223383963726\n",
      "Current iteration=200, loss=0.5182493398212649\n",
      "Current iteration=300, loss=0.5180214132994074\n",
      "Current iteration=400, loss=0.519589109087956\n",
      "Gradient close to zero\n",
      "0.0856070690838997\n",
      "Method                                                     Accuracy   F1 Score   Type II Error  \n",
      "------------------------------------------------------------------------------------------------\n",
      "Least Squares                                                0.493      0.160      0.451\n",
      "Gradient Descent                                             0.493      0.160      0.451\n",
      "Stochastic Gradient Descent                                  0.493      0.160      0.451\n",
      "Ridge Regression                                             0.902      0.393      0.637\n",
      "Logistic Regression                                          0.862      0.412      0.447\n",
      "Regularized Logistic Regression                              0.832      0.406      0.348\n",
      "Ridge Regression CV                                          0.902      0.392      0.642\n",
      "Least Squares Poly 2                                         0.536      0.181      0.418\n",
      "Ridge Regression Poly 2                                      0.763      0.372      0.202\n",
      "Regularized Logistic Regression Poly 2 Lambda 0.001          0.828      0.360      0.449\n",
      "Regularized Logistic Regression CV                           0.800      0.389      0.278\n"
     ]
    }
   ],
   "source": [
    "w_rlr_CV, mse_rlr_CV = reg_logistic_regression(y, tx_train, 0.1, w_rlr)\n",
    "print(mse_rlr_CV)\n",
    "\n",
    "pred_rlr_poly = predict_reg(tx_validate, w_rlr_CV, best_cutoff_rlr)\n",
    "predictions.append(pred_rlr_poly)\n",
    "names.append(\"Regularized Logistic Regression CV \")\n",
    "plot_results(y_validate, predictions, names)"
   ]
  },
  {
   "cell_type": "code",
   "execution_count": null,
   "metadata": {},
   "outputs": [
    {
     "name": "stdout",
     "output_type": "stream",
     "text": [
      "0.21622066393000486\n"
     ]
    }
   ],
   "source": [
    "\n",
    "# Calculate classification\n",
    "pred = np.where(sigmoid(tx_test @ w_rlr) > cutoff_rlr, 1, -1)\n",
    "print(len(pred[pred == 1])/len(pred))\n",
    "\n",
    "# Write classifications to file\n",
    "create_csv_submission(test_ids, pred, \"data/sample_submission_rlr.csv\")"
   ]
  },
  {
   "cell_type": "code",
   "execution_count": null,
   "metadata": {},
   "outputs": [
    {
     "data": {
      "image/png": "[encoded data removed]",
      "text/plain": [
       "<Figure size 640x480 with 1 Axes>"
      ]
     },
     "metadata": {},
     "output_type": "display_data"
    }
   ],
   "source": [
    "plt.plot(cutoffs_rr_CV, f1_scores_rr_CV, label=\"Rigde Regression\")\n",
    "plt.plot(cutoffs_rlr_CV, f1_scores_rlr_CV, label=\"Regularized Logistic Regression\")\n",
    "plt.legend()\n",
    "plt.title(\"Cross Validation based on f1 and cutoff prediction values\")\n",
    "plt.xlabel(\"cutoffs\")\n",
    "plt.xlabel(\"f1 scores\")\n",
    "plt.savefig(\"cross_validation_rr_and_rlr\")"
   ]
  },
  {
   "cell_type": "markdown",
   "metadata": {},
   "source": [
    "## Polynomial regression"
   ]
  },
  {
   "cell_type": "code",
   "execution_count": null,
   "metadata": {},
   "outputs": [],
   "source": [
    "degree = 2\n",
    "tx_poly = build_poly_multivariate(tx_train, degree)\n",
    "tx_validate_poly = build_poly_multivariate(tx_validate, degree)\n",
    "tx_test_poly = build_poly_multivariate(tx_test, degree)\n",
    "\n",
    "np.random.seed(seed)\n",
    "initial_w = np.random.random(tx_poly.shape[1])"
   ]
  },
  {
   "cell_type": "code",
   "execution_count": null,
   "metadata": {},
   "outputs": [
    {
     "name": "stdout",
     "output_type": "stream",
     "text": [
      "0.07692537592223618\n",
      "Method                                                     Accuracy   F1 Score   Type II Error  \n",
      "------------------------------------------------------------------------------------------------\n",
      "Least Squares                                                0.493      0.160      0.451\n",
      "Gradient Descent                                             0.493      0.160      0.451\n",
      "Stochastic Gradient Descent                                  0.493      0.160      0.451\n",
      "Ridge Regression                                             0.902      0.393      0.637\n",
      "Logistic Regression                                          0.862      0.412      0.447\n",
      "Regularized Logistic Regression                              0.832      0.406      0.348\n",
      "Ridge Regression CV                                          0.902      0.392      0.642\n",
      "Least Squares Poly 2                                         0.536      0.181      0.418\n"
     ]
    }
   ],
   "source": [
    "w_ls_poly, mse_ls_poly = least_squares(y, tx_poly)\n",
    "print(mse_ls_poly)\n",
    "\n",
    "pred_rr_poly = predict_reg(tx_validate_poly, w_ls_poly)\n",
    "predictions.append(pred_rr_poly)\n",
    "names.append(\"Least Squares Poly \" + str(degree))\n",
    "plot_results(y_validate, predictions, names)"
   ]
  },
  {
   "cell_type": "code",
   "execution_count": null,
   "metadata": {},
   "outputs": [
    {
     "name": "stdout",
     "output_type": "stream",
     "text": [
      "0.07693354893762133\n",
      "Method                                                     Accuracy   F1 Score   Type II Error  \n",
      "------------------------------------------------------------------------------------------------\n",
      "Least Squares                                                0.493      0.160      0.451\n",
      "Gradient Descent                                             0.493      0.160      0.451\n",
      "Stochastic Gradient Descent                                  0.493      0.160      0.451\n",
      "Ridge Regression                                             0.902      0.393      0.637\n",
      "Logistic Regression                                          0.862      0.412      0.447\n",
      "Regularized Logistic Regression                              0.832      0.406      0.348\n",
      "Ridge Regression CV                                          0.902      0.392      0.642\n",
      "Least Squares Poly 2                                         0.536      0.181      0.418\n",
      "Ridge Regression Poly 2                                      0.763      0.372      0.202\n"
     ]
    }
   ],
   "source": [
    "w_rr_poly, mse_rr_poly = ridge_regression(y, tx_poly, best_lambda_ridge)\n",
    "print(mse_rr_poly)\n",
    "\n",
    "pred_rr_poly = predict_reg(tx_validate_poly, w_rr_poly)\n",
    "predictions.append(pred_rr_poly)\n",
    "names.append(\"Ridge Regression Poly \" + str(degree))\n",
    "plot_results(y_validate, predictions, names)"
   ]
  },
  {
   "cell_type": "code",
   "execution_count": null,
   "metadata": {},
   "outputs": [
    {
     "name": "stdout",
     "output_type": "stream",
     "text": [
      "Current iteration=0, loss=0.8143905987955656\n",
      "Current iteration=100, loss=0.9674856780836784\n",
      "Current iteration=200, loss=0.8160487672063753\n",
      "Current iteration=300, loss=0.7557373377709026\n",
      "Current iteration=400, loss=0.7182980269712284\n",
      "Current iteration=500, loss=0.7123115860769277\n",
      "Current iteration=600, loss=0.6930781877706963\n",
      "Current iteration=700, loss=0.6897779720113523\n",
      "Current iteration=800, loss=0.6858182679596985\n",
      "Current iteration=900, loss=0.6821037901102738\n",
      "Reached max iterations\n",
      "0.11276225985522575\n",
      "Method                                                     Accuracy   F1 Score   Type II Error  \n",
      "------------------------------------------------------------------------------------------------\n",
      "Least Squares                                                0.493      0.160      0.451\n",
      "Gradient Descent                                             0.493      0.160      0.451\n",
      "Stochastic Gradient Descent                                  0.493      0.160      0.451\n",
      "Ridge Regression                                             0.902      0.393      0.637\n",
      "Logistic Regression                                          0.862      0.412      0.447\n",
      "Regularized Logistic Regression                              0.832      0.406      0.348\n",
      "Ridge Regression CV                                          0.902      0.392      0.642\n",
      "Least Squares Poly 2                                         0.536      0.181      0.418\n",
      "Ridge Regression Poly 2                                      0.763      0.372      0.202\n",
      "Regularized Logistic Regression Poly 2 Lambda 0.001          0.828      0.360      0.449\n"
     ]
    }
   ],
   "source": [
    "w_rlr_poly, mse_rlr_poly = reg_logistic_regression(y, tx_poly, lambda_logistic, initial_w, max_iters, gamma=gamma)\n",
    "print(mse_rlr_poly)\n",
    "\n",
    "pred_rlr_poly = predict_class(tx_validate_poly, w_rlr_poly)\n",
    "predictions.append(pred_rlr_poly)\n",
    "names.append(\"Regularized Logistic Regression Poly \" + str(degree) + \" Lambda \" + str(lambda_logistic))\n",
    "plot_results(y_validate, predictions, names)"
   ]
  }
 ],
 "metadata": {
  "kernelspec": {
   "display_name": "base",
   "language": "python",
   "name": "python3"
  },
  "language_info": {
   "codemirror_mode": {
    "name": "ipython",
    "version": 3
   },
   "file_extension": ".py",
   "mimetype": "text/x-python",
   "name": "python",
   "nbconvert_exporter": "python",
   "pygments_lexer": "ipython3",
   "version": "3.9.13"
  }
 },
 "nbformat": 4,
 "nbformat_minor": 2
}
