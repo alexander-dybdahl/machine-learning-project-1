{
 "cells": [
  {
   "cell_type": "markdown",
   "metadata": {},
   "source": [
    "# Project 1\n",
    "**Alexander Laloi Dybdahl, Viktor Ellevseth**"
   ]
  },
  {
   "cell_type": "code",
   "execution_count": 1,
   "metadata": {},
   "outputs": [],
   "source": [
    "# %load_ext autoreload\n",
    "# %autoreload 2\n",
    "import numpy as np\n",
    "\n",
    "from helpers import *\n",
    "from plots import *\n",
    "from cross_validation import *\n",
    "from build_polynomial import *\n",
    "from validation import *\n",
    "from preproccessing import *\n",
    "from implementations import *\n",
    "\n",
    "from gradient_descent import *\n",
    "from stochastic_gradient_descent import *\n",
    "from least_squares import *\n",
    "from ridge_regression import *\n",
    "from logistic_regression import *"
   ]
  },
  {
   "cell_type": "markdown",
   "metadata": {},
   "source": [
    "#### Load data"
   ]
  },
  {
   "cell_type": "code",
   "execution_count": 3,
   "metadata": {},
   "outputs": [],
   "source": [
    "x_train, x_test, y_train, train_ids, test_ids = load_csv_data(\"data/\", sub_sample=False)"
   ]
  },
  {
   "cell_type": "code",
   "execution_count": 4,
   "metadata": {},
   "outputs": [
    {
     "name": "stdout",
     "output_type": "stream",
     "text": [
      "(328135, 321)\n",
      "(328135,)\n",
      "(109379, 321)\n"
     ]
    }
   ],
   "source": [
    "print(x_train.shape)\n",
    "print(y_train.shape)\n",
    "print(x_test.shape)"
   ]
  },
  {
   "cell_type": "markdown",
   "metadata": {},
   "source": [
    "## Run"
   ]
  },
  {
   "cell_type": "code",
   "execution_count": 5,
   "metadata": {},
   "outputs": [
    {
     "name": "stdout",
     "output_type": "stream",
     "text": [
      "encoding (328135, 930) (109379, 930)\n",
      "imputing (328135, 930) (109379, 930)\n",
      "removing low var (328135, 756) (109379, 756)\n",
      "removing high corr (328135, 673) (109379, 673)\n",
      "standardize (328135, 673) (109379, 673)\n",
      "splitting (295322, 673) (109379, 673) (32813, 673)\n",
      "balancing (469656, 673) (109379, 673) (32813, 673)\n",
      "(469656, 673) (109379, 673) (32813, 673)\n"
     ]
    }
   ],
   "source": [
    "# Define constants\n",
    "names = [\"Least Squares\", \"Gradient Descent\", \"Stochastic Gradient Descent\", \"Ridge Regression\", \"Logistic Regression\", \"Regularized Logistic Regression\"]\n",
    "max_iters = 1000\n",
    "seed = 123\n",
    "\n",
    "# Define hyperparameters\n",
    "gamma = 0.1\n",
    "lambda_ridge = 0.01\n",
    "lambda_logistic = 0.001\n",
    "\n",
    "# Preprocess data\n",
    "tx_train, tx_validate, tx_test, y, y_validate = preprocess_data(\n",
    "                                       x_train[:, 9:],\n",
    "                                       x_test[:, 9:],\n",
    "                                       y_train,\n",
    "                                       min_unique = 7,\n",
    "                                       var_tol = 0.0001,\n",
    "                                       corr_tol = 0.999,\n",
    "                                       empty_tol = 0.90,\n",
    "                                       num_components = 300,\n",
    "                                       validation_size = 0.10,\n",
    "                                       ratio = 0.10,\n",
    "                                       seed = 1,\n",
    "                                       pca = False,\n",
    "                                       hon = True\n",
    ")\n",
    "\n",
    "# Define initial w\n",
    "np.random.seed(seed)\n",
    "initial_w = np.random.random(tx_train.shape[1])\n",
    "\n",
    "print(tx_train.shape, tx_test.shape, tx_validate.shape)"
   ]
  },
  {
   "cell_type": "code",
   "execution_count": 6,
   "metadata": {},
   "outputs": [
    {
     "name": "stdout",
     "output_type": "stream",
     "text": [
      "0.5\n"
     ]
    }
   ],
   "source": [
    "print(len(y[y == 1])/len(y))"
   ]
  },
  {
   "cell_type": "markdown",
   "metadata": {},
   "source": [
    "## Train "
   ]
  },
  {
   "cell_type": "code",
   "execution_count": 7,
   "metadata": {},
   "outputs": [],
   "source": [
    "mses = []\n",
    "ws = []"
   ]
  },
  {
   "cell_type": "code",
   "execution_count": 8,
   "metadata": {},
   "outputs": [
    {
     "name": "stdout",
     "output_type": "stream",
     "text": [
      "0.07527283836181264\n"
     ]
    }
   ],
   "source": [
    "w_ls, mse_ls = least_squares(y, tx_train)\n",
    "print(mse_ls)\n",
    "mses.append(mse_ls)\n",
    "ws.append(w_ls)"
   ]
  },
  {
   "cell_type": "code",
   "execution_count": 9,
   "metadata": {},
   "outputs": [
    {
     "name": "stdout",
     "output_type": "stream",
     "text": [
      "Current iteration=0, loss=0.07527283836181155\n",
      "Gradient close to zero\n",
      "0.07527283836181155\n"
     ]
    }
   ],
   "source": [
    "w_gd, mse_gd = mean_squared_error_gd(y, tx_train, w_ls, max_iters=max_iters, gamma=gamma)\n",
    "print(mse_gd)\n",
    "mses.append(mse_gd)\n",
    "ws.append(w_gd)"
   ]
  },
  {
   "cell_type": "code",
   "execution_count": 10,
   "metadata": {},
   "outputs": [
    {
     "name": "stdout",
     "output_type": "stream",
     "text": [
      "Current iteration=0, loss=0.07527283836181155\n",
      "Gradient close to zero\n",
      "0.07527283836181155\n"
     ]
    }
   ],
   "source": [
    "w_sgd, mse_sgd = mean_squared_error_sgd(y, tx_train, w_ls, max_iters=max_iters, gamma=gamma, batch_size=y.shape[0])\n",
    "print(mse_sgd)\n",
    "mses.append(mse_sgd)\n",
    "ws.append(w_sgd)"
   ]
  },
  {
   "cell_type": "code",
   "execution_count": 11,
   "metadata": {},
   "outputs": [
    {
     "name": "stdout",
     "output_type": "stream",
     "text": [
      "0.1201103641931973\n"
     ]
    }
   ],
   "source": [
    "w_rr, mse_rr = ridge_regression(y, tx_train, lambda_ridge)\n",
    "print(mse_rr)\n",
    "mses.append(mse_rr)\n",
    "ws.append(w_rr)"
   ]
  },
  {
   "cell_type": "code",
   "execution_count": 12,
   "metadata": {},
   "outputs": [
    {
     "name": "stdout",
     "output_type": "stream",
     "text": [
      "Current iteration=0, loss=0.569667517301423\n",
      "Current iteration=100, loss=0.5105792074730766\n",
      "Current iteration=200, loss=0.5089309845437658\n",
      "Current iteration=300, loss=0.5080425889588882\n",
      "Current iteration=400, loss=0.5074158513955448\n",
      "Current iteration=500, loss=0.5069105353633221\n",
      "Current iteration=600, loss=0.5064685582265697\n",
      "Current iteration=700, loss=0.5060624680551444\n",
      "Current iteration=800, loss=0.5056783354036296\n",
      "Current iteration=900, loss=0.5053087168846153\n",
      "Reached max iterations\n",
      "0.0825667720200664\n"
     ]
    }
   ],
   "source": [
    "np.random.seed(seed)\n",
    "initial_w = np.zeros(tx_train.shape[1])\n",
    "\n",
    "w_lr, mse_lr = logistic_regression(y, tx_train, initial_w, max_iters=1000, gamma=0.1, seed=seed)\n",
    "print(mse_lr)\n",
    "mses.append(mse_lr)\n",
    "ws.append(w_lr)"
   ]
  },
  {
   "cell_type": "code",
   "execution_count": 13,
   "metadata": {},
   "outputs": [
    {
     "name": "stdout",
     "output_type": "stream",
     "text": [
      "Current iteration=0, loss=0.504950407838644\n",
      "Current iteration=100, loss=0.5047087921490573\n",
      "Current iteration=200, loss=0.5045107168581737\n",
      "Current iteration=300, loss=0.5084693480405958\n",
      "Current iteration=400, loss=0.5056765089638942\n",
      "Current iteration=500, loss=0.5026873413636642\n",
      "Current iteration=600, loss=0.4998806584760767\n",
      "Current iteration=700, loss=0.4972825293837387\n",
      "Current iteration=800, loss=0.4948883629497133\n",
      "Current iteration=900, loss=0.4926879022531032\n",
      "Reached max iterations\n",
      "0.07809784820116518\n"
     ]
    }
   ],
   "source": [
    "w_rlr, mse_rlr = reg_logistic_regression(y, tx_train, lambda_logistic, w_lr, max_iters=1000, gamma=0.1, seed=seed)\n",
    "print(mse_rlr)\n",
    "mses.append(mse_rlr)\n",
    "ws.append(w_rlr)"
   ]
  },
  {
   "cell_type": "code",
   "execution_count": 14,
   "metadata": {},
   "outputs": [
    {
     "name": "stdout",
     "output_type": "stream",
     "text": [
      "Method                                    MSE Value      \n",
      "---------------------------------------------------------\n",
      "Least Squares                            0.0752728384\n",
      "Gradient Descent                         0.0752728384\n",
      "Stochastic Gradient Descent              0.0752728384\n",
      "Ridge Regression                         0.1201103642\n",
      "Logistic Regression                      0.0825667720\n",
      "Regularized Logistic Regression          0.0780978482\n"
     ]
    }
   ],
   "source": [
    "print_mse(names, mses)"
   ]
  },
  {
   "cell_type": "markdown",
   "metadata": {},
   "source": [
    "## Test methods"
   ]
  },
  {
   "cell_type": "markdown",
   "metadata": {},
   "source": [
    "### Testing on validation set"
   ]
  },
  {
   "cell_type": "code",
   "execution_count": 15,
   "metadata": {},
   "outputs": [],
   "source": [
    "# Cutoff values for regression and classification methods\n",
    "cutoffs = np.linspace(0.10, 0.99, 51)\n",
    "cutoff_ls, f1_scores_ls = cross_validation_cutoffs(y_validate, tx_validate, w_ls, predict_class, cutoffs, plot=False) # 0.66\n",
    "cutoff_rr, f1_scores_rr = cross_validation_cutoffs(y_validate, tx_validate, w_rr, predict_class, cutoffs, plot=False) # 0.62\n",
    "cutoff_lr, f1_scores_lr = cross_validation_cutoffs(y_validate, tx_validate, w_lr, predict_class, cutoffs, plot=False) # 0.81\n",
    "cutoff_rlr, f1_scores_rlr = cross_validation_cutoffs(y_validate, tx_validate, w_rlr, predict_class, cutoffs, plot=False) # 0.69"
   ]
  },
  {
   "cell_type": "code",
   "execution_count": 16,
   "metadata": {},
   "outputs": [
    {
     "name": "stdout",
     "output_type": "stream",
     "text": [
      "cutoffs 0.6696 0.6162 0.7942 0.723\n",
      "Method                                                     Accuracy   F1 Score   Type II Error  \n",
      "------------------------------------------------------------------------------------------------\n",
      "Least Squares                                                0.872      0.428      0.454\n",
      "Gradient Descent                                             0.872      0.428      0.454\n",
      "Stochastic Gradient Descent                                  0.872      0.428      0.454\n",
      "Ridge Regression                                             0.904      0.412      0.617\n",
      "Logistic Regression                                          0.871      0.432      0.442\n",
      "Regularized Logistic Regression                              0.844      0.419      0.357\n"
     ]
    }
   ],
   "source": [
    "print(\"cutoffs\", cutoff_ls, cutoff_rr, cutoff_lr, cutoff_rlr)\n",
    "\n",
    "# Predict for regression methods\n",
    "pred_ls = predict_reg(tx_validate, w_ls, cutoff_ls)\n",
    "pred_gd = predict_reg(tx_validate, w_gd, cutoff_ls)\n",
    "pred_sgd = predict_reg(tx_validate, w_sgd, cutoff_ls)\n",
    "pred_rr = predict_reg(tx_validate, w_rr, cutoff_rr)\n",
    "\n",
    "# Predict for classification methods\n",
    "pred_lr = predict_class(tx_validate, w_lr, cutoff_lr)\n",
    "pred_rlr = predict_class(tx_validate, w_rlr, cutoff_rlr)\n",
    "\n",
    "predictions = [pred_ls, pred_gd, pred_sgd, pred_rr, pred_lr, pred_rlr]\n",
    "\n",
    "plot_results(y_validate, predictions, names)"
   ]
  },
  {
   "cell_type": "code",
   "execution_count": 17,
   "metadata": {},
   "outputs": [
    {
     "name": "stdout",
     "output_type": "stream",
     "text": [
      "Least Squares\n",
      "[[ 1573  2888]\n",
      " [ 1310 27042]]\n",
      "\n",
      "Gradient Descent\n",
      "[[ 1573  2888]\n",
      " [ 1310 27042]]\n",
      "\n",
      "Stochastic Gradient Descent\n",
      "[[ 1573  2888]\n",
      " [ 1310 27042]]\n",
      "\n",
      "Ridge Regression\n",
      "[[ 1105  1381]\n",
      " [ 1778 28549]]\n",
      "\n",
      "Logistic Regression\n",
      "[[ 1608  2951]\n",
      " [ 1275 26979]]\n",
      "\n",
      "Regularized Logistic Regression\n",
      "[[ 1853  4104]\n",
      " [ 1030 25826]]\n",
      "\n"
     ]
    }
   ],
   "source": [
    "for name, pred in zip(names, predictions):\n",
    "    print(name)\n",
    "    print(confusion_matrix(y_validate, pred))\n",
    "    print()"
   ]
  },
  {
   "cell_type": "code",
   "execution_count": 18,
   "metadata": {},
   "outputs": [
    {
     "name": "stdout",
     "output_type": "stream",
     "text": [
      "0.46143226761992706\n",
      "0.07563609102295688\n",
      "0.13908519916985893\n",
      "0.1822104791596193\n"
     ]
    }
   ],
   "source": [
    "# Calculate classification\n",
    "pred = np.where(tx_test @ w_ls > cutoff_ls, 1, -1)\n",
    "print(len(pred[pred == 1])/len(pred))\n",
    "create_csv_submission(test_ids, pred, \"data/sample_submission_ls.csv\")\n",
    "\n",
    "# Calculate classification\n",
    "pred = np.where(tx_test @ w_rr > cutoff_rr, 1, -1)\n",
    "print(len(pred[pred == 1])/len(pred))\n",
    "create_csv_submission(test_ids, pred, \"data/sample_submission_ridge.csv\")\n",
    "\n",
    "# Calculate classification\n",
    "pred = np.where(sigmoid(tx_test @ w_lr) > cutoff_lr, 1, -1)\n",
    "print(len(pred[pred == 1])/len(pred))\n",
    "create_csv_submission(test_ids, pred, \"data/sample_submission_lr.csv\")\n",
    "\n",
    "# Calculate classification\n",
    "pred = np.where(sigmoid(tx_test @ w_rlr) > cutoff_rlr, 1, -1)\n",
    "print(len(pred[pred == 1])/len(pred))\n",
    "create_csv_submission(test_ids, pred, \"data/sample_submission_rlr.csv\")"
   ]
  },
  {
   "cell_type": "markdown",
   "metadata": {},
   "source": [
    "## Cross Validation on lambda and cutoffs on Ridge Regression"
   ]
  },
  {
   "cell_type": "code",
   "execution_count": 19,
   "metadata": {},
   "outputs": [
    {
     "name": "stdout",
     "output_type": "stream",
     "text": [
      "lambda 0.0001\n",
      "lambda 0.00013738237958832623\n",
      "lambda 0.00018873918221350977\n",
      "lambda 0.0002592943797404667\n",
      "lambda 0.0003562247890262444\n",
      "lambda 0.0004893900918477494\n",
      "lambda 0.0006723357536499335\n",
      "lambda 0.0009236708571873865\n",
      "lambda 0.0012689610031679222\n",
      "lambda 0.0017433288221999873\n",
      "lambda 0.002395026619987486\n",
      "lambda 0.0032903445623126675\n",
      "lambda 0.004520353656360241\n",
      "lambda 0.006210169418915616\n",
      "lambda 0.008531678524172805\n",
      "lambda 0.011721022975334805\n",
      "lambda 0.01610262027560939\n",
      "lambda 0.02212216291070448\n",
      "lambda 0.03039195382313198\n",
      "lambda 0.041753189365604\n",
      "lambda 0.05736152510448681\n",
      "lambda 0.07880462815669913\n",
      "lambda 0.1082636733874054\n",
      "lambda 0.14873521072935117\n",
      "lambda 0.20433597178569418\n",
      "lambda 0.2807216203941176\n",
      "lambda 0.38566204211634725\n",
      "lambda 0.5298316906283708\n",
      "lambda 0.7278953843983146\n",
      "lambda 1.0\n",
      "Best lambda: 0.0001\n",
      "Best rmse: 0.49037118398042406\n"
     ]
    },
    {
     "data": {
      "image/png": "[encoded data removed]",
      "text/plain": [
       "<Figure size 640x480 with 1 Axes>"
      ]
     },
     "metadata": {},
     "output_type": "display_data"
    }
   ],
   "source": [
    "lambdas = np.logspace(-4, 0, 30)\n",
    "k_fold = 7\n",
    "\n",
    "best_lambda_ridge, best_rmse = cross_validation_lambda(y, tx_train, ridge_regression, k_fold, lambdas, seed=seed, args=())\n",
    "print(\"Best lambda:\", best_lambda_ridge)\n",
    "print(\"Best rmse:\", best_rmse)"
   ]
  },
  {
   "cell_type": "code",
   "execution_count": 20,
   "metadata": {},
   "outputs": [
    {
     "name": "stdout",
     "output_type": "stream",
     "text": [
      "0.6224489795918368\n"
     ]
    }
   ],
   "source": [
    "cutoffs_rr_CV = np.linspace(0.1, 0.9, 50)\n",
    "best_cutoff_rr, f1_scores_rr_CV = cross_validation_cutoffs(y_validate, tx_validate, w_rr, predict_class, cutoffs_rr_CV, plot=False)\n",
    "print(best_cutoff_rr)"
   ]
  },
  {
   "cell_type": "code",
   "execution_count": 21,
   "metadata": {},
   "outputs": [
    {
     "name": "stdout",
     "output_type": "stream",
     "text": [
      "0.11991064737851931\n",
      "Method                                                     Accuracy   F1 Score   Type II Error  \n",
      "------------------------------------------------------------------------------------------------\n",
      "Least Squares                                                0.872      0.428      0.454\n",
      "Gradient Descent                                             0.872      0.428      0.454\n",
      "Stochastic Gradient Descent                                  0.872      0.428      0.454\n",
      "Ridge Regression                                             0.904      0.412      0.617\n",
      "Logistic Regression                                          0.871      0.432      0.442\n",
      "Regularized Logistic Regression                              0.844      0.419      0.357\n",
      "Ridge Regression CV                                          0.904      0.410      0.621\n"
     ]
    }
   ],
   "source": [
    "w_rr_CV, mse_rr_CV = ridge_regression(y, tx_train, best_lambda_ridge)\n",
    "print(mse_rr_CV)\n",
    "\n",
    "pred_rr_poly = predict_reg(tx_validate, w_rr_CV, best_cutoff_rr)\n",
    "predictions.append(pred_rr_poly)\n",
    "names.append(\"Ridge Regression CV \")\n",
    "plot_results(y_validate, predictions, names)"
   ]
  },
  {
   "cell_type": "code",
   "execution_count": 22,
   "metadata": {},
   "outputs": [
    {
     "name": "stdout",
     "output_type": "stream",
     "text": [
      "0.07731831521590067\n"
     ]
    }
   ],
   "source": [
    "# Calculate classification\n",
    "pred = np.where(tx_test @ w_rr_CV > cutoff_rr, 1, -1)\n",
    "print(len(pred[pred == 1])/len(pred))\n",
    "\n",
    "# Write classifications to file\n",
    "create_csv_submission(test_ids, pred, \"data/sample_submission_ridge_CV.csv\")"
   ]
  },
  {
   "cell_type": "markdown",
   "metadata": {},
   "source": [
    "## Cross Validation on lambda and cutoffs on RLR"
   ]
  },
  {
   "cell_type": "code",
   "execution_count": null,
   "metadata": {},
   "outputs": [
    {
     "name": "stdout",
     "output_type": "stream",
     "text": [
      "lambda 0.001\n",
      "Current iteration=0, loss=0.5052608690303392\n",
      "Current iteration=100, loss=0.5049067697310289\n",
      "Current iteration=200, loss=0.5047048292970516\n",
      "Current iteration=300, loss=0.508716036101004\n",
      "Current iteration=400, loss=0.506003500689529\n",
      "Current iteration=500, loss=0.5030397929974786\n",
      "Current iteration=600, loss=0.5002512248749802\n",
      "Current iteration=700, loss=0.4976706035621228\n",
      "Current iteration=800, loss=0.4952941541184938\n",
      "Current iteration=900, loss=0.49311137389674\n",
      "Reached max iterations\n",
      "Current iteration=0, loss=0.5047707382949043\n",
      "Current iteration=100, loss=0.504400548518907\n",
      "Current iteration=200, loss=0.5041851942737409\n",
      "Current iteration=300, loss=0.5081412449944999\n",
      "Current iteration=400, loss=0.5053483639469795\n",
      "Current iteration=500, loss=0.5023486067162282\n",
      "Current iteration=600, loss=0.4995294149802188\n",
      "Current iteration=700, loss=0.4969144699690419\n",
      "Current iteration=800, loss=0.4944989090912836\n",
      "Current iteration=900, loss=0.4922726806101309\n",
      "Reached max iterations\n",
      "Current iteration=0, loss=0.5046177079625191\n",
      "Current iteration=100, loss=0.5042662795736657\n",
      "Current iteration=200, loss=0.5040624797376727\n",
      "Current iteration=300, loss=0.5078739524964804\n",
      "Current iteration=400, loss=0.5049881519364321\n",
      "Current iteration=500, loss=0.5019722748347357\n",
      "Current iteration=600, loss=0.4991425560857671\n",
      "Current iteration=700, loss=0.49652243529245\n",
      "Current iteration=800, loss=0.4941075706886414\n",
      "Current iteration=900, loss=0.49188787515408056\n",
      "Reached max iterations\n",
      "Current iteration=0, loss=0.5055359884915785\n",
      "Current iteration=100, loss=0.5051804675421628\n",
      "Current iteration=200, loss=0.5049633449723504\n",
      "Current iteration=300, loss=0.5088876682560771\n",
      "Current iteration=400, loss=0.5061103668542968\n",
      "Current iteration=500, loss=0.5031839475399845\n",
      "Current iteration=600, loss=0.5004432707334078\n",
      "Current iteration=700, loss=0.4979109593123082\n",
      "Current iteration=800, loss=0.4955818291221461\n",
      "Current iteration=900, loss=0.4934456289911432\n",
      "Reached max iterations\n",
      "Current iteration=0, loss=0.5045380401323323\n",
      "Current iteration=100, loss=0.5041900445534402\n",
      "Current iteration=200, loss=0.5039872737848357\n",
      "Current iteration=300, loss=0.5079874349026388\n",
      "Current iteration=400, loss=0.5051731976310897\n",
      "Current iteration=500, loss=0.5021318524060684\n",
      "Current iteration=600, loss=0.49926965505215193\n",
      "Current iteration=700, loss=0.49661667378356555\n",
      "Current iteration=800, loss=0.49412789746919833\n",
      "Current iteration=900, loss=0.49005551543053305\n",
      "Reached max iterations\n",
      "lambda 0.005\n",
      "Current iteration=0, loss=0.5052646400919047\n",
      "Current iteration=100, loss=0.5053050912366625\n",
      "Current iteration=200, loss=0.5054266274367971\n",
      "Current iteration=300, loss=0.5055350996572069\n",
      "Current iteration=400, loss=0.505627772911689\n",
      "Current iteration=500, loss=0.5057065652471697\n",
      "Current iteration=600, loss=0.5057738997739287\n",
      "Current iteration=700, loss=0.5058319066171891\n",
      "Current iteration=800, loss=0.5058822898936209\n",
      "Current iteration=900, loss=0.5059263730105509\n",
      "Reached max iterations\n",
      "Current iteration=0, loss=0.5047747349730543\n",
      "Current iteration=100, loss=0.5048023865019305\n",
      "Current iteration=200, loss=0.5049207920607575\n",
      "Current iteration=300, loss=0.5050265586204377\n",
      "Current iteration=400, loss=0.5051169906338304\n",
      "Current iteration=500, loss=0.5051940100462888\n",
      "Current iteration=600, loss=0.5052599672369615\n",
      "Current iteration=700, loss=0.5053169047778637\n",
      "Current iteration=800, loss=0.5053664508591942\n",
      "Current iteration=900, loss=0.5054098702163706\n",
      "Reached max iterations\n",
      "Current iteration=0, loss=0.5046218335501454\n",
      "Current iteration=100, loss=0.504662737813382\n",
      "Current iteration=200, loss=0.504784180353187\n",
      "Current iteration=300, loss=0.5048913017039601\n",
      "Current iteration=400, loss=0.5049825233607736\n",
      "Current iteration=500, loss=0.5050601178038948\n",
      "Current iteration=600, loss=0.5051265380480793\n",
      "Current iteration=700, loss=0.5051838623395505\n",
      "Current iteration=800, loss=0.5052337350098948\n",
      "Current iteration=900, loss=0.50527743068801\n",
      "Reached max iterations\n",
      "Current iteration=0, loss=0.5055395916945916\n",
      "Current iteration=100, loss=0.5055688808274958\n",
      "Current iteration=200, loss=0.5056873007994324\n",
      "Current iteration=300, loss=0.5057943257205927\n",
      "Current iteration=400, loss=0.5058860150514818\n",
      "Current iteration=500, loss=0.5059640043749319\n",
      "Current iteration=600, loss=0.5060306243362754\n",
      "Current iteration=700, loss=0.5060879713834802\n",
      "Current iteration=800, loss=0.5061377387630549\n",
      "Current iteration=900, loss=0.5061812475222458\n",
      "Reached max iterations\n",
      "Current iteration=0, loss=0.5045421639519336\n",
      "Current iteration=100, loss=0.5045877097163355\n",
      "Current iteration=200, loss=0.5047104497102404\n",
      "Current iteration=300, loss=0.5048196009882833\n"
     ]
    }
   ],
   "source": [
    "lambdas = [0.001, 0.005, 0.01, 0.05, 0.1]\n",
    "k_fold = 5\n",
    "\n",
    "best_lambda_rlr, best_rmse = cross_validation_lambda(y, tx_train, reg_logistic_regression, k_fold, lambdas, seed=seed, loss_type=\"class\", args=(w_lr, ))\n",
    "print(\"Best lambda:\", best_lambda_rlr)\n",
    "print(\"Best rmse:\", best_rmse)"
   ]
  },
  {
   "cell_type": "code",
   "execution_count": null,
   "metadata": {},
   "outputs": [
    {
     "name": "stdout",
     "output_type": "stream",
     "text": [
      "0.7262962962962963\n"
     ]
    }
   ],
   "source": [
    "cutoffs_rlr_CV = np.linspace(0.1, 0.99, 55)\n",
    "best_cutoff_rlr, f1_scores_rlr_CV = cross_validation_cutoffs(y_validate, tx_validate, w_rlr, predict_class, cutoffs_rlr_CV, plot=False)\n",
    "print(best_cutoff_rlr)"
   ]
  },
  {
   "cell_type": "code",
   "execution_count": null,
   "metadata": {},
   "outputs": [
    {
     "name": "stdout",
     "output_type": "stream",
     "text": [
      "Current iteration=0, loss=0.5246587466120257\n",
      "Current iteration=100, loss=0.5150223383963726\n",
      "Current iteration=200, loss=0.5182493398212649\n",
      "Current iteration=300, loss=0.5180214132994074\n",
      "Current iteration=400, loss=0.519589109087956\n",
      "Gradient close to zero\n",
      "0.0856070690838997\n",
      "Method                                                     Accuracy   F1 Score   Type II Error  \n",
      "------------------------------------------------------------------------------------------------\n",
      "Least Squares                                                0.493      0.160      0.451\n",
      "Gradient Descent                                             0.493      0.160      0.451\n",
      "Stochastic Gradient Descent                                  0.493      0.160      0.451\n",
      "Ridge Regression                                             0.902      0.393      0.637\n",
      "Logistic Regression                                          0.862      0.412      0.447\n",
      "Regularized Logistic Regression                              0.832      0.406      0.348\n",
      "Ridge Regression CV                                          0.902      0.392      0.642\n",
      "Least Squares Poly 2                                         0.536      0.181      0.418\n",
      "Ridge Regression Poly 2                                      0.763      0.372      0.202\n",
      "Regularized Logistic Regression Poly 2 Lambda 0.001          0.828      0.360      0.449\n",
      "Regularized Logistic Regression CV                           0.800      0.389      0.278\n"
     ]
    }
   ],
   "source": [
    "w_rlr_CV, mse_rlr_CV = reg_logistic_regression(y, tx_train, 0.1, w_rlr)\n",
    "print(mse_rlr_CV)\n",
    "\n",
    "pred_rlr_poly = predict_reg(tx_validate, w_rlr_CV, best_cutoff_rlr)\n",
    "predictions.append(pred_rlr_poly)\n",
    "names.append(\"Regularized Logistic Regression CV \")\n",
    "plot_results(y_validate, predictions, names)"
   ]
  },
  {
   "cell_type": "code",
   "execution_count": null,
   "metadata": {},
   "outputs": [
    {
     "name": "stdout",
     "output_type": "stream",
     "text": [
      "0.21622066393000486\n"
     ]
    }
   ],
   "source": [
    "\n",
    "# Calculate classification\n",
    "pred = np.where(sigmoid(tx_test @ w_rlr) > cutoff_rlr, 1, -1)\n",
    "print(len(pred[pred == 1])/len(pred))\n",
    "\n",
    "# Write classifications to file\n",
    "create_csv_submission(test_ids, pred, \"data/sample_submission_rlr.csv\")"
   ]
  },
  {
   "cell_type": "code",
   "execution_count": null,
   "metadata": {},
   "outputs": [
    {
     "data": {
      "image/png": "[encoded data removed]",
      "text/plain": [
       "<Figure size 640x480 with 1 Axes>"
      ]
     },
     "metadata": {},
     "output_type": "display_data"
    }
   ],
   "source": [
    "plt.plot(cutoffs_rr_CV, f1_scores_rr_CV, label=\"Rigde Regression\")\n",
    "plt.plot(cutoffs_rlr_CV, f1_scores_rlr_CV, label=\"Regularized Logistic Regression\")\n",
    "plt.legend()\n",
    "plt.title(\"Cross Validation based on f1 and cutoff prediction values\")\n",
    "plt.xlabel(\"cutoffs\")\n",
    "plt.xlabel(\"f1 scores\")\n",
    "plt.savefig(\"cross_validation_rr_and_rlr\")"
   ]
  },
  {
   "cell_type": "markdown",
   "metadata": {},
   "source": [
    "## Polynomial regression"
   ]
  },
  {
   "cell_type": "code",
   "execution_count": null,
   "metadata": {},
   "outputs": [],
   "source": [
    "degree = 2\n",
    "tx_poly = build_poly_multivariate(tx_train, degree)\n",
    "tx_validate_poly = build_poly_multivariate(tx_validate, degree)\n",
    "tx_test_poly = build_poly_multivariate(tx_test, degree)\n",
    "\n",
    "np.random.seed(seed)\n",
    "initial_w = np.random.random(tx_poly.shape[1])"
   ]
  },
  {
   "cell_type": "code",
   "execution_count": null,
   "metadata": {},
   "outputs": [
    {
     "name": "stdout",
     "output_type": "stream",
     "text": [
      "0.07692537592223618\n",
      "Method                                                     Accuracy   F1 Score   Type II Error  \n",
      "------------------------------------------------------------------------------------------------\n",
      "Least Squares                                                0.493      0.160      0.451\n",
      "Gradient Descent                                             0.493      0.160      0.451\n",
      "Stochastic Gradient Descent                                  0.493      0.160      0.451\n",
      "Ridge Regression                                             0.902      0.393      0.637\n",
      "Logistic Regression                                          0.862      0.412      0.447\n",
      "Regularized Logistic Regression                              0.832      0.406      0.348\n",
      "Ridge Regression CV                                          0.902      0.392      0.642\n",
      "Least Squares Poly 2                                         0.536      0.181      0.418\n"
     ]
    }
   ],
   "source": [
    "w_ls_poly, mse_ls_poly = least_squares(y, tx_poly)\n",
    "print(mse_ls_poly)\n",
    "\n",
    "pred_rr_poly = predict_reg(tx_validate_poly, w_ls_poly)\n",
    "predictions.append(pred_rr_poly)\n",
    "names.append(\"Least Squares Poly \" + str(degree))\n",
    "plot_results(y_validate, predictions, names)"
   ]
  },
  {
   "cell_type": "code",
   "execution_count": null,
   "metadata": {},
   "outputs": [
    {
     "name": "stdout",
     "output_type": "stream",
     "text": [
      "0.07693354893762133\n",
      "Method                                                     Accuracy   F1 Score   Type II Error  \n",
      "------------------------------------------------------------------------------------------------\n",
      "Least Squares                                                0.493      0.160      0.451\n",
      "Gradient Descent                                             0.493      0.160      0.451\n",
      "Stochastic Gradient Descent                                  0.493      0.160      0.451\n",
      "Ridge Regression                                             0.902      0.393      0.637\n",
      "Logistic Regression                                          0.862      0.412      0.447\n",
      "Regularized Logistic Regression                              0.832      0.406      0.348\n",
      "Ridge Regression CV                                          0.902      0.392      0.642\n",
      "Least Squares Poly 2                                         0.536      0.181      0.418\n",
      "Ridge Regression Poly 2                                      0.763      0.372      0.202\n"
     ]
    }
   ],
   "source": [
    "w_rr_poly, mse_rr_poly = ridge_regression(y, tx_poly, best_lambda_ridge)\n",
    "print(mse_rr_poly)\n",
    "\n",
    "pred_rr_poly = predict_reg(tx_validate_poly, w_rr_poly)\n",
    "predictions.append(pred_rr_poly)\n",
    "names.append(\"Ridge Regression Poly \" + str(degree))\n",
    "plot_results(y_validate, predictions, names)"
   ]
  },
  {
   "cell_type": "code",
   "execution_count": null,
   "metadata": {},
   "outputs": [
    {
     "name": "stdout",
     "output_type": "stream",
     "text": [
      "Current iteration=0, loss=0.8143905987955656\n",
      "Current iteration=100, loss=0.9674856780836784\n",
      "Current iteration=200, loss=0.8160487672063753\n",
      "Current iteration=300, loss=0.7557373377709026\n",
      "Current iteration=400, loss=0.7182980269712284\n",
      "Current iteration=500, loss=0.7123115860769277\n",
      "Current iteration=600, loss=0.6930781877706963\n",
      "Current iteration=700, loss=0.6897779720113523\n",
      "Current iteration=800, loss=0.6858182679596985\n",
      "Current iteration=900, loss=0.6821037901102738\n",
      "Reached max iterations\n",
      "0.11276225985522575\n",
      "Method                                                     Accuracy   F1 Score   Type II Error  \n",
      "------------------------------------------------------------------------------------------------\n",
      "Least Squares                                                0.493      0.160      0.451\n",
      "Gradient Descent                                             0.493      0.160      0.451\n",
      "Stochastic Gradient Descent                                  0.493      0.160      0.451\n",
      "Ridge Regression                                             0.902      0.393      0.637\n",
      "Logistic Regression                                          0.862      0.412      0.447\n",
      "Regularized Logistic Regression                              0.832      0.406      0.348\n",
      "Ridge Regression CV                                          0.902      0.392      0.642\n",
      "Least Squares Poly 2                                         0.536      0.181      0.418\n",
      "Ridge Regression Poly 2                                      0.763      0.372      0.202\n",
      "Regularized Logistic Regression Poly 2 Lambda 0.001          0.828      0.360      0.449\n"
     ]
    }
   ],
   "source": [
    "w_rlr_poly, mse_rlr_poly = reg_logistic_regression(y, tx_poly, lambda_logistic, initial_w, max_iters, gamma=gamma)\n",
    "print(mse_rlr_poly)\n",
    "\n",
    "pred_rlr_poly = predict_class(tx_validate_poly, w_rlr_poly)\n",
    "predictions.append(pred_rlr_poly)\n",
    "names.append(\"Regularized Logistic Regression Poly \" + str(degree) + \" Lambda \" + str(lambda_logistic))\n",
    "plot_results(y_validate, predictions, names)"
   ]
  }
 ],
 "metadata": {
  "kernelspec": {
   "display_name": "Python 3",
   "language": "python",
   "name": "python3"
  },
  "language_info": {
   "codemirror_mode": {
    "name": "ipython",
    "version": 3
   },
   "file_extension": ".py",
   "mimetype": "text/x-python",
   "name": "python",
   "nbconvert_exporter": "python",
   "pygments_lexer": "ipython3",
   "version": "3.12.9"
  }
 },
 "nbformat": 4,
 "nbformat_minor": 2
}
